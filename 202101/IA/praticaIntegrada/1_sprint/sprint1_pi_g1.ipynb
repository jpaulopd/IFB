{
  "nbformat": 4,
  "nbformat_minor": 0,
  "metadata": {
    "colab": {
      "name": "sprint1_pi_g1",
      "provenance": [],
      "collapsed_sections": [
        "qukIlsj4S1Oc"
      ]
    },
    "kernelspec": {
      "name": "python3",
      "display_name": "Python 3"
    },
    "language_info": {
      "name": "python"
    }
  },
  "cells": [
    {
      "cell_type": "markdown",
      "metadata": {
        "id": "Sc40xMhlOLcd"
      },
      "source": [
        "# Sprint 1 - Exploração dos dados com SQL "
      ]
    },
    {
      "cell_type": "code",
      "metadata": {
        "id": "Dk56uaJuajYC"
      },
      "source": [
        "import pandas as pd\n",
        "url = 'https://raw.githubusercontent.com/infocbra/pratica-integrada-cd-e-am-2021-1-g1-ghjp/master/1_sprint/ovinis_data.csv?token=AG2WN5MDYUBGC4JTXXQZAPDBBBCJW'\n",
        "df = pd.read_csv(url,sep=',')"
      ],
      "execution_count": null,
      "outputs": []
    },
    {
      "cell_type": "markdown",
      "metadata": {
        "id": "496PSGKLSJOq"
      },
      "source": [
        "## Tratamento da coluna Unnamed"
      ]
    },
    {
      "cell_type": "code",
      "metadata": {
        "colab": {
          "base_uri": "https://localhost:8080/",
          "height": 206
        },
        "id": "gotGlrzSOVec",
        "outputId": "81a21056-b6eb-44e6-d11f-c696879e9167"
      },
      "source": [
        "df.head()"
      ],
      "execution_count": null,
      "outputs": [
        {
          "output_type": "execute_result",
          "data": {
            "text/html": [
              "<div>\n",
              "<style scoped>\n",
              "    .dataframe tbody tr th:only-of-type {\n",
              "        vertical-align: middle;\n",
              "    }\n",
              "\n",
              "    .dataframe tbody tr th {\n",
              "        vertical-align: top;\n",
              "    }\n",
              "\n",
              "    .dataframe thead th {\n",
              "        text-align: right;\n",
              "    }\n",
              "</style>\n",
              "<table border=\"1\" class=\"dataframe\">\n",
              "  <thead>\n",
              "    <tr style=\"text-align: right;\">\n",
              "      <th></th>\n",
              "      <th>Unnamed: 0</th>\n",
              "      <th>data</th>\n",
              "      <th>cidade</th>\n",
              "      <th>estado</th>\n",
              "      <th>formato</th>\n",
              "      <th>duracao</th>\n",
              "      <th>resumo</th>\n",
              "      <th>postado</th>\n",
              "    </tr>\n",
              "  </thead>\n",
              "  <tbody>\n",
              "    <tr>\n",
              "      <th>0</th>\n",
              "      <td>0</td>\n",
              "      <td>9/30/97 22:00</td>\n",
              "      <td>Madison</td>\n",
              "      <td>WI</td>\n",
              "      <td>Light</td>\n",
              "      <td>5 minutes</td>\n",
              "      <td>Strange light inside Lake Monona</td>\n",
              "      <td>3/2/04</td>\n",
              "    </tr>\n",
              "    <tr>\n",
              "      <th>1</th>\n",
              "      <td>1</td>\n",
              "      <td>9/30/97 20:00</td>\n",
              "      <td>Nova Scotia (Canada)</td>\n",
              "      <td>NS</td>\n",
              "      <td>Light</td>\n",
              "      <td>8-10 seconds.</td>\n",
              "      <td>Single light resembling a star, but moving spu...</td>\n",
              "      <td>10/30/06</td>\n",
              "    </tr>\n",
              "    <tr>\n",
              "      <th>2</th>\n",
              "      <td>2</td>\n",
              "      <td>9/28/97 23:15</td>\n",
              "      <td>San Francisco</td>\n",
              "      <td>CA</td>\n",
              "      <td>Triangle</td>\n",
              "      <td>12-15s</td>\n",
              "      <td>flying-wing shape outlined by 12-14 lights. Ap...</td>\n",
              "      <td>7/5/99</td>\n",
              "    </tr>\n",
              "    <tr>\n",
              "      <th>3</th>\n",
              "      <td>3</td>\n",
              "      <td>9/27/97 23:00</td>\n",
              "      <td>Egan</td>\n",
              "      <td>SD</td>\n",
              "      <td>Other</td>\n",
              "      <td>30 minutes</td>\n",
              "      <td>The Weirdest Thing I Have Ever Seen</td>\n",
              "      <td>2/22/05</td>\n",
              "    </tr>\n",
              "    <tr>\n",
              "      <th>4</th>\n",
              "      <td>4</td>\n",
              "      <td>9/27/97 05:00</td>\n",
              "      <td>Crestwood</td>\n",
              "      <td>KY</td>\n",
              "      <td>Disk</td>\n",
              "      <td>15 minutes</td>\n",
              "      <td>A big disk with red and green lights on the ri...</td>\n",
              "      <td>8/5/01</td>\n",
              "    </tr>\n",
              "  </tbody>\n",
              "</table>\n",
              "</div>"
            ],
            "text/plain": [
              "   Unnamed: 0  ...   postado\n",
              "0           0  ...    3/2/04\n",
              "1           1  ...  10/30/06\n",
              "2           2  ...    7/5/99\n",
              "3           3  ...   2/22/05\n",
              "4           4  ...    8/5/01\n",
              "\n",
              "[5 rows x 8 columns]"
            ]
          },
          "metadata": {
            "tags": []
          },
          "execution_count": 2
        }
      ]
    },
    {
      "cell_type": "code",
      "metadata": {
        "id": "cN-hF24uQG-m"
      },
      "source": [
        "df.drop(df.columns[0], axis=1, inplace=True)"
      ],
      "execution_count": null,
      "outputs": []
    },
    {
      "cell_type": "code",
      "metadata": {
        "colab": {
          "base_uri": "https://localhost:8080/",
          "height": 206
        },
        "id": "nHnyfPAQR0QY",
        "outputId": "3fa4ba5a-a500-4cd0-c6f7-5299e3c35b79"
      },
      "source": [
        "df.head()"
      ],
      "execution_count": null,
      "outputs": [
        {
          "output_type": "execute_result",
          "data": {
            "text/html": [
              "<div>\n",
              "<style scoped>\n",
              "    .dataframe tbody tr th:only-of-type {\n",
              "        vertical-align: middle;\n",
              "    }\n",
              "\n",
              "    .dataframe tbody tr th {\n",
              "        vertical-align: top;\n",
              "    }\n",
              "\n",
              "    .dataframe thead th {\n",
              "        text-align: right;\n",
              "    }\n",
              "</style>\n",
              "<table border=\"1\" class=\"dataframe\">\n",
              "  <thead>\n",
              "    <tr style=\"text-align: right;\">\n",
              "      <th></th>\n",
              "      <th>data</th>\n",
              "      <th>cidade</th>\n",
              "      <th>estado</th>\n",
              "      <th>formato</th>\n",
              "      <th>duracao</th>\n",
              "      <th>resumo</th>\n",
              "      <th>postado</th>\n",
              "    </tr>\n",
              "  </thead>\n",
              "  <tbody>\n",
              "    <tr>\n",
              "      <th>0</th>\n",
              "      <td>9/30/97 22:00</td>\n",
              "      <td>Madison</td>\n",
              "      <td>WI</td>\n",
              "      <td>Light</td>\n",
              "      <td>5 minutes</td>\n",
              "      <td>Strange light inside Lake Monona</td>\n",
              "      <td>3/2/04</td>\n",
              "    </tr>\n",
              "    <tr>\n",
              "      <th>1</th>\n",
              "      <td>9/30/97 20:00</td>\n",
              "      <td>Nova Scotia (Canada)</td>\n",
              "      <td>NS</td>\n",
              "      <td>Light</td>\n",
              "      <td>8-10 seconds.</td>\n",
              "      <td>Single light resembling a star, but moving spu...</td>\n",
              "      <td>10/30/06</td>\n",
              "    </tr>\n",
              "    <tr>\n",
              "      <th>2</th>\n",
              "      <td>9/28/97 23:15</td>\n",
              "      <td>San Francisco</td>\n",
              "      <td>CA</td>\n",
              "      <td>Triangle</td>\n",
              "      <td>12-15s</td>\n",
              "      <td>flying-wing shape outlined by 12-14 lights. Ap...</td>\n",
              "      <td>7/5/99</td>\n",
              "    </tr>\n",
              "    <tr>\n",
              "      <th>3</th>\n",
              "      <td>9/27/97 23:00</td>\n",
              "      <td>Egan</td>\n",
              "      <td>SD</td>\n",
              "      <td>Other</td>\n",
              "      <td>30 minutes</td>\n",
              "      <td>The Weirdest Thing I Have Ever Seen</td>\n",
              "      <td>2/22/05</td>\n",
              "    </tr>\n",
              "    <tr>\n",
              "      <th>4</th>\n",
              "      <td>9/27/97 05:00</td>\n",
              "      <td>Crestwood</td>\n",
              "      <td>KY</td>\n",
              "      <td>Disk</td>\n",
              "      <td>15 minutes</td>\n",
              "      <td>A big disk with red and green lights on the ri...</td>\n",
              "      <td>8/5/01</td>\n",
              "    </tr>\n",
              "  </tbody>\n",
              "</table>\n",
              "</div>"
            ],
            "text/plain": [
              "            data  ...   postado\n",
              "0  9/30/97 22:00  ...    3/2/04\n",
              "1  9/30/97 20:00  ...  10/30/06\n",
              "2  9/28/97 23:15  ...    7/5/99\n",
              "3  9/27/97 23:00  ...   2/22/05\n",
              "4  9/27/97 05:00  ...    8/5/01\n",
              "\n",
              "[5 rows x 7 columns]"
            ]
          },
          "metadata": {
            "tags": []
          },
          "execution_count": 4
        }
      ]
    },
    {
      "cell_type": "markdown",
      "metadata": {
        "id": "mUg6xrbxSUAx"
      },
      "source": [
        "## 1 - Saber a quantidade de linhas, observações ou variáveis que foram coletadas.\n"
      ]
    },
    {
      "cell_type": "code",
      "metadata": {
        "colab": {
          "base_uri": "https://localhost:8080/"
        },
        "id": "ivFR9ujVSAAs",
        "outputId": "fa1c49e8-b92b-4e4e-98cc-48e5212858df"
      },
      "source": [
        "df.info()"
      ],
      "execution_count": null,
      "outputs": [
        {
          "output_type": "stream",
          "text": [
            "<class 'pandas.core.frame.DataFrame'>\n",
            "RangeIndex: 100157 entries, 0 to 100156\n",
            "Data columns (total 7 columns):\n",
            " #   Column   Non-Null Count   Dtype \n",
            "---  ------   --------------   ----- \n",
            " 0   data     100157 non-null  object\n",
            " 1   cidade   99959 non-null   object\n",
            " 2   estado   92931 non-null   object\n",
            " 3   formato  98130 non-null   object\n",
            " 4   duracao  97156 non-null   object\n",
            " 5   resumo   100137 non-null  object\n",
            " 6   postado  100157 non-null  object\n",
            "dtypes: object(7)\n",
            "memory usage: 5.3+ MB\n"
          ],
          "name": "stdout"
        }
      ]
    },
    {
      "cell_type": "code",
      "metadata": {
        "colab": {
          "base_uri": "https://localhost:8080/"
        },
        "id": "Y4HM6p15SjC3",
        "outputId": "452223a9-4691-49ee-c39a-7b430b995afc"
      },
      "source": [
        "df.shape"
      ],
      "execution_count": null,
      "outputs": [
        {
          "output_type": "execute_result",
          "data": {
            "text/plain": [
              "(100157, 7)"
            ]
          },
          "metadata": {
            "tags": []
          },
          "execution_count": 6
        }
      ]
    },
    {
      "cell_type": "markdown",
      "metadata": {
        "id": "qukIlsj4S1Oc"
      },
      "source": [
        "### O dataframe possui 100.157 registros, 7 atributos ou colunas ou variáveis"
      ]
    },
    {
      "cell_type": "markdown",
      "metadata": {
        "id": "twbhbbiSS_wV"
      },
      "source": [
        "## 2 - Quantos relatos ocorreram por estado em ordem decrescente?"
      ]
    },
    {
      "cell_type": "code",
      "metadata": {
        "colab": {
          "base_uri": "https://localhost:8080/"
        },
        "id": "xmIStPDiSowA",
        "outputId": "6c2409bb-c9db-4d51-e9e3-d51c0c81c72d"
      },
      "source": [
        "df[['estado']].groupby(['estado']).size().sort_values(ascending=False)"
      ],
      "execution_count": null,
      "outputs": [
        {
          "output_type": "execute_result",
          "data": {
            "text/plain": [
              "estado\n",
              "CA    11440\n",
              "FL     5605\n",
              "WA     4919\n",
              "TX     4171\n",
              "NY     3888\n",
              "      ...  \n",
              "PE       20\n",
              "YT       20\n",
              "PR       18\n",
              "YK        5\n",
              "VI        1\n",
              "Length: 68, dtype: int64"
            ]
          },
          "metadata": {
            "tags": []
          },
          "execution_count": 7
        }
      ]
    },
    {
      "cell_type": "markdown",
      "metadata": {
        "id": "pWfLeErUuEwA"
      },
      "source": [
        "## 3 - Remover possíveis campos vazios (sem estado)"
      ]
    },
    {
      "cell_type": "code",
      "metadata": {
        "colab": {
          "base_uri": "https://localhost:8080/",
          "height": 424
        },
        "id": "X9-Hing1uDK6",
        "outputId": "d1a84fb2-cc95-4059-c6c1-262cccf0e571"
      },
      "source": [
        "# selecao_null = (df.estado.isnull())\n",
        "# df_sem_nulo = df~[selecao_null]\n",
        "# df_sem_nulo\n",
        "\n",
        "df_sem_nulo = df.dropna(subset=['estado']).reset_index(drop=True)\n",
        "df_sem_nulo\n"
      ],
      "execution_count": null,
      "outputs": [
        {
          "output_type": "execute_result",
          "data": {
            "text/html": [
              "<div>\n",
              "<style scoped>\n",
              "    .dataframe tbody tr th:only-of-type {\n",
              "        vertical-align: middle;\n",
              "    }\n",
              "\n",
              "    .dataframe tbody tr th {\n",
              "        vertical-align: top;\n",
              "    }\n",
              "\n",
              "    .dataframe thead th {\n",
              "        text-align: right;\n",
              "    }\n",
              "</style>\n",
              "<table border=\"1\" class=\"dataframe\">\n",
              "  <thead>\n",
              "    <tr style=\"text-align: right;\">\n",
              "      <th></th>\n",
              "      <th>data</th>\n",
              "      <th>cidade</th>\n",
              "      <th>estado</th>\n",
              "      <th>formato</th>\n",
              "      <th>duracao</th>\n",
              "      <th>resumo</th>\n",
              "      <th>postado</th>\n",
              "    </tr>\n",
              "  </thead>\n",
              "  <tbody>\n",
              "    <tr>\n",
              "      <th>0</th>\n",
              "      <td>9/30/97 22:00</td>\n",
              "      <td>Madison</td>\n",
              "      <td>WI</td>\n",
              "      <td>Light</td>\n",
              "      <td>5 minutes</td>\n",
              "      <td>Strange light inside Lake Monona</td>\n",
              "      <td>3/2/04</td>\n",
              "    </tr>\n",
              "    <tr>\n",
              "      <th>1</th>\n",
              "      <td>9/30/97 20:00</td>\n",
              "      <td>Nova Scotia (Canada)</td>\n",
              "      <td>NS</td>\n",
              "      <td>Light</td>\n",
              "      <td>8-10 seconds.</td>\n",
              "      <td>Single light resembling a star, but moving spu...</td>\n",
              "      <td>10/30/06</td>\n",
              "    </tr>\n",
              "    <tr>\n",
              "      <th>2</th>\n",
              "      <td>9/28/97 23:15</td>\n",
              "      <td>San Francisco</td>\n",
              "      <td>CA</td>\n",
              "      <td>Triangle</td>\n",
              "      <td>12-15s</td>\n",
              "      <td>flying-wing shape outlined by 12-14 lights. Ap...</td>\n",
              "      <td>7/5/99</td>\n",
              "    </tr>\n",
              "    <tr>\n",
              "      <th>3</th>\n",
              "      <td>9/27/97 23:00</td>\n",
              "      <td>Egan</td>\n",
              "      <td>SD</td>\n",
              "      <td>Other</td>\n",
              "      <td>30 minutes</td>\n",
              "      <td>The Weirdest Thing I Have Ever Seen</td>\n",
              "      <td>2/22/05</td>\n",
              "    </tr>\n",
              "    <tr>\n",
              "      <th>4</th>\n",
              "      <td>9/27/97 05:00</td>\n",
              "      <td>Crestwood</td>\n",
              "      <td>KY</td>\n",
              "      <td>Disk</td>\n",
              "      <td>15 minutes</td>\n",
              "      <td>A big disk with red and green lights on the ri...</td>\n",
              "      <td>8/5/01</td>\n",
              "    </tr>\n",
              "    <tr>\n",
              "      <th>...</th>\n",
              "      <td>...</td>\n",
              "      <td>...</td>\n",
              "      <td>...</td>\n",
              "      <td>...</td>\n",
              "      <td>...</td>\n",
              "      <td>...</td>\n",
              "      <td>...</td>\n",
              "    </tr>\n",
              "    <tr>\n",
              "      <th>92926</th>\n",
              "      <td>8/1/17 02:45</td>\n",
              "      <td>Corcoran</td>\n",
              "      <td>MN</td>\n",
              "      <td>Light</td>\n",
              "      <td>Still going</td>\n",
              "      <td>Small light south west of Minneapolis maneuver...</td>\n",
              "      <td>8/4/17</td>\n",
              "    </tr>\n",
              "    <tr>\n",
              "      <th>92927</th>\n",
              "      <td>8/1/17 02:00</td>\n",
              "      <td>Moreno Valley</td>\n",
              "      <td>CA</td>\n",
              "      <td>Other</td>\n",
              "      <td>10 seconds</td>\n",
              "      <td>I was looking out the front windshield and loo...</td>\n",
              "      <td>8/4/17</td>\n",
              "    </tr>\n",
              "    <tr>\n",
              "      <th>92928</th>\n",
              "      <td>8/1/17 01:00</td>\n",
              "      <td>Bradenton</td>\n",
              "      <td>FL</td>\n",
              "      <td>Other</td>\n",
              "      <td>&lt;20 seconds</td>\n",
              "      <td>I was walking my dog about 1am on August 1, 20...</td>\n",
              "      <td>5/9/19</td>\n",
              "    </tr>\n",
              "    <tr>\n",
              "      <th>92929</th>\n",
              "      <td>8/1/17 00:00</td>\n",
              "      <td>Springdale</td>\n",
              "      <td>AR</td>\n",
              "      <td>NaN</td>\n",
              "      <td>1 hour</td>\n",
              "      <td>Glowing flying people . seven of them flying l...</td>\n",
              "      <td>2/13/20</td>\n",
              "    </tr>\n",
              "    <tr>\n",
              "      <th>92930</th>\n",
              "      <td>8/1/17</td>\n",
              "      <td>Laurel</td>\n",
              "      <td>MD</td>\n",
              "      <td>Other</td>\n",
              "      <td>NaN</td>\n",
              "      <td>It was an alien project level 1 federal ran on...</td>\n",
              "      <td>6/25/20</td>\n",
              "    </tr>\n",
              "  </tbody>\n",
              "</table>\n",
              "<p>92931 rows × 7 columns</p>\n",
              "</div>"
            ],
            "text/plain": [
              "                data  ...   postado\n",
              "0      9/30/97 22:00  ...    3/2/04\n",
              "1      9/30/97 20:00  ...  10/30/06\n",
              "2      9/28/97 23:15  ...    7/5/99\n",
              "3      9/27/97 23:00  ...   2/22/05\n",
              "4      9/27/97 05:00  ...    8/5/01\n",
              "...              ...  ...       ...\n",
              "92926   8/1/17 02:45  ...    8/4/17\n",
              "92927   8/1/17 02:00  ...    8/4/17\n",
              "92928   8/1/17 01:00  ...    5/9/19\n",
              "92929   8/1/17 00:00  ...   2/13/20\n",
              "92930         8/1/17  ...   6/25/20\n",
              "\n",
              "[92931 rows x 7 columns]"
            ]
          },
          "metadata": {
            "tags": []
          },
          "execution_count": 8
        }
      ]
    },
    {
      "cell_type": "markdown",
      "metadata": {
        "id": "laPOD2GOXQtv"
      },
      "source": [
        "## 4 - Limitar a análise aos estados dos Estados Unidos."
      ]
    },
    {
      "cell_type": "code",
      "metadata": {
        "colab": {
          "base_uri": "https://localhost:8080/",
          "height": 1000
        },
        "id": "VDE34qZYXZit",
        "outputId": "f3e426cb-e78e-4bc1-90af-194d2fe63106"
      },
      "source": [
        "url2 = 'https://raw.githubusercontent.com/oliveirafhm/data_science/master/5_pipeline_dados/usa_states.csv'\n",
        "states = pd.read_csv(url2,sep=',')\n",
        "states"
      ],
      "execution_count": null,
      "outputs": [
        {
          "output_type": "execute_result",
          "data": {
            "text/html": [
              "<div>\n",
              "<style scoped>\n",
              "    .dataframe tbody tr th:only-of-type {\n",
              "        vertical-align: middle;\n",
              "    }\n",
              "\n",
              "    .dataframe tbody tr th {\n",
              "        vertical-align: top;\n",
              "    }\n",
              "\n",
              "    .dataframe thead th {\n",
              "        text-align: right;\n",
              "    }\n",
              "</style>\n",
              "<table border=\"1\" class=\"dataframe\">\n",
              "  <thead>\n",
              "    <tr style=\"text-align: right;\">\n",
              "      <th></th>\n",
              "      <th>State</th>\n",
              "      <th>Abbreviation</th>\n",
              "    </tr>\n",
              "  </thead>\n",
              "  <tbody>\n",
              "    <tr>\n",
              "      <th>0</th>\n",
              "      <td>Alabama</td>\n",
              "      <td>AL</td>\n",
              "    </tr>\n",
              "    <tr>\n",
              "      <th>1</th>\n",
              "      <td>Alaska</td>\n",
              "      <td>AK</td>\n",
              "    </tr>\n",
              "    <tr>\n",
              "      <th>2</th>\n",
              "      <td>Arizona</td>\n",
              "      <td>AZ</td>\n",
              "    </tr>\n",
              "    <tr>\n",
              "      <th>3</th>\n",
              "      <td>Arkansas</td>\n",
              "      <td>AR</td>\n",
              "    </tr>\n",
              "    <tr>\n",
              "      <th>4</th>\n",
              "      <td>California</td>\n",
              "      <td>CA</td>\n",
              "    </tr>\n",
              "    <tr>\n",
              "      <th>5</th>\n",
              "      <td>Colorado</td>\n",
              "      <td>CO</td>\n",
              "    </tr>\n",
              "    <tr>\n",
              "      <th>6</th>\n",
              "      <td>Connecticut</td>\n",
              "      <td>CT</td>\n",
              "    </tr>\n",
              "    <tr>\n",
              "      <th>7</th>\n",
              "      <td>Delaware</td>\n",
              "      <td>DE</td>\n",
              "    </tr>\n",
              "    <tr>\n",
              "      <th>8</th>\n",
              "      <td>District of Columbia</td>\n",
              "      <td>DC</td>\n",
              "    </tr>\n",
              "    <tr>\n",
              "      <th>9</th>\n",
              "      <td>Florida</td>\n",
              "      <td>FL</td>\n",
              "    </tr>\n",
              "    <tr>\n",
              "      <th>10</th>\n",
              "      <td>Georgia</td>\n",
              "      <td>GA</td>\n",
              "    </tr>\n",
              "    <tr>\n",
              "      <th>11</th>\n",
              "      <td>Hawaii</td>\n",
              "      <td>HI</td>\n",
              "    </tr>\n",
              "    <tr>\n",
              "      <th>12</th>\n",
              "      <td>Idaho</td>\n",
              "      <td>ID</td>\n",
              "    </tr>\n",
              "    <tr>\n",
              "      <th>13</th>\n",
              "      <td>Illinois</td>\n",
              "      <td>IL</td>\n",
              "    </tr>\n",
              "    <tr>\n",
              "      <th>14</th>\n",
              "      <td>Indiana</td>\n",
              "      <td>IN</td>\n",
              "    </tr>\n",
              "    <tr>\n",
              "      <th>15</th>\n",
              "      <td>Iowa</td>\n",
              "      <td>IA</td>\n",
              "    </tr>\n",
              "    <tr>\n",
              "      <th>16</th>\n",
              "      <td>Kansas</td>\n",
              "      <td>KS</td>\n",
              "    </tr>\n",
              "    <tr>\n",
              "      <th>17</th>\n",
              "      <td>Kentucky</td>\n",
              "      <td>KY</td>\n",
              "    </tr>\n",
              "    <tr>\n",
              "      <th>18</th>\n",
              "      <td>Louisiana</td>\n",
              "      <td>LA</td>\n",
              "    </tr>\n",
              "    <tr>\n",
              "      <th>19</th>\n",
              "      <td>Maine</td>\n",
              "      <td>ME</td>\n",
              "    </tr>\n",
              "    <tr>\n",
              "      <th>20</th>\n",
              "      <td>Montana</td>\n",
              "      <td>MT</td>\n",
              "    </tr>\n",
              "    <tr>\n",
              "      <th>21</th>\n",
              "      <td>Nebraska</td>\n",
              "      <td>NE</td>\n",
              "    </tr>\n",
              "    <tr>\n",
              "      <th>22</th>\n",
              "      <td>Nevada</td>\n",
              "      <td>NV</td>\n",
              "    </tr>\n",
              "    <tr>\n",
              "      <th>23</th>\n",
              "      <td>New Hampshire</td>\n",
              "      <td>NH</td>\n",
              "    </tr>\n",
              "    <tr>\n",
              "      <th>24</th>\n",
              "      <td>New Jersey</td>\n",
              "      <td>NJ</td>\n",
              "    </tr>\n",
              "    <tr>\n",
              "      <th>25</th>\n",
              "      <td>New Mexico</td>\n",
              "      <td>NM</td>\n",
              "    </tr>\n",
              "    <tr>\n",
              "      <th>26</th>\n",
              "      <td>New York</td>\n",
              "      <td>NY</td>\n",
              "    </tr>\n",
              "    <tr>\n",
              "      <th>27</th>\n",
              "      <td>North Carolina</td>\n",
              "      <td>NC</td>\n",
              "    </tr>\n",
              "    <tr>\n",
              "      <th>28</th>\n",
              "      <td>North Dakota</td>\n",
              "      <td>ND</td>\n",
              "    </tr>\n",
              "    <tr>\n",
              "      <th>29</th>\n",
              "      <td>Ohio</td>\n",
              "      <td>OH</td>\n",
              "    </tr>\n",
              "    <tr>\n",
              "      <th>30</th>\n",
              "      <td>Oklahoma</td>\n",
              "      <td>OK</td>\n",
              "    </tr>\n",
              "    <tr>\n",
              "      <th>31</th>\n",
              "      <td>Oregon</td>\n",
              "      <td>OR</td>\n",
              "    </tr>\n",
              "    <tr>\n",
              "      <th>32</th>\n",
              "      <td>Maryland</td>\n",
              "      <td>MD</td>\n",
              "    </tr>\n",
              "    <tr>\n",
              "      <th>33</th>\n",
              "      <td>Massachusetts</td>\n",
              "      <td>MA</td>\n",
              "    </tr>\n",
              "    <tr>\n",
              "      <th>34</th>\n",
              "      <td>Michigan</td>\n",
              "      <td>MI</td>\n",
              "    </tr>\n",
              "    <tr>\n",
              "      <th>35</th>\n",
              "      <td>Minnesota</td>\n",
              "      <td>MN</td>\n",
              "    </tr>\n",
              "    <tr>\n",
              "      <th>36</th>\n",
              "      <td>Mississippi</td>\n",
              "      <td>MS</td>\n",
              "    </tr>\n",
              "    <tr>\n",
              "      <th>37</th>\n",
              "      <td>Missouri</td>\n",
              "      <td>MO</td>\n",
              "    </tr>\n",
              "    <tr>\n",
              "      <th>38</th>\n",
              "      <td>Pennsylvania</td>\n",
              "      <td>PA</td>\n",
              "    </tr>\n",
              "    <tr>\n",
              "      <th>39</th>\n",
              "      <td>Rhode Island</td>\n",
              "      <td>RI</td>\n",
              "    </tr>\n",
              "    <tr>\n",
              "      <th>40</th>\n",
              "      <td>South Carolina</td>\n",
              "      <td>SC</td>\n",
              "    </tr>\n",
              "    <tr>\n",
              "      <th>41</th>\n",
              "      <td>South Dakota</td>\n",
              "      <td>SD</td>\n",
              "    </tr>\n",
              "    <tr>\n",
              "      <th>42</th>\n",
              "      <td>Tennessee</td>\n",
              "      <td>TN</td>\n",
              "    </tr>\n",
              "    <tr>\n",
              "      <th>43</th>\n",
              "      <td>Texas</td>\n",
              "      <td>TX</td>\n",
              "    </tr>\n",
              "    <tr>\n",
              "      <th>44</th>\n",
              "      <td>Utah</td>\n",
              "      <td>UT</td>\n",
              "    </tr>\n",
              "    <tr>\n",
              "      <th>45</th>\n",
              "      <td>Vermont</td>\n",
              "      <td>VT</td>\n",
              "    </tr>\n",
              "    <tr>\n",
              "      <th>46</th>\n",
              "      <td>Virginia</td>\n",
              "      <td>VA</td>\n",
              "    </tr>\n",
              "    <tr>\n",
              "      <th>47</th>\n",
              "      <td>Washington</td>\n",
              "      <td>WA</td>\n",
              "    </tr>\n",
              "    <tr>\n",
              "      <th>48</th>\n",
              "      <td>West Virginia</td>\n",
              "      <td>WV</td>\n",
              "    </tr>\n",
              "    <tr>\n",
              "      <th>49</th>\n",
              "      <td>Wisconsin</td>\n",
              "      <td>WI</td>\n",
              "    </tr>\n",
              "    <tr>\n",
              "      <th>50</th>\n",
              "      <td>Wyoming</td>\n",
              "      <td>WY</td>\n",
              "    </tr>\n",
              "  </tbody>\n",
              "</table>\n",
              "</div>"
            ],
            "text/plain": [
              "                   State Abbreviation\n",
              "0                Alabama           AL\n",
              "1                 Alaska           AK\n",
              "2                Arizona           AZ\n",
              "3               Arkansas           AR\n",
              "4             California           CA\n",
              "5               Colorado           CO\n",
              "6            Connecticut           CT\n",
              "7               Delaware           DE\n",
              "8   District of Columbia           DC\n",
              "9                Florida           FL\n",
              "10               Georgia           GA\n",
              "11                Hawaii           HI\n",
              "12                 Idaho           ID\n",
              "13              Illinois           IL\n",
              "14               Indiana           IN\n",
              "15                  Iowa           IA\n",
              "16                Kansas           KS\n",
              "17              Kentucky           KY\n",
              "18             Louisiana           LA\n",
              "19                 Maine           ME\n",
              "20               Montana           MT\n",
              "21              Nebraska           NE\n",
              "22                Nevada           NV\n",
              "23         New Hampshire           NH\n",
              "24            New Jersey           NJ\n",
              "25            New Mexico           NM\n",
              "26              New York           NY\n",
              "27        North Carolina           NC\n",
              "28          North Dakota           ND\n",
              "29                  Ohio           OH\n",
              "30              Oklahoma           OK\n",
              "31                Oregon           OR\n",
              "32              Maryland           MD\n",
              "33         Massachusetts           MA\n",
              "34              Michigan           MI\n",
              "35             Minnesota           MN\n",
              "36           Mississippi           MS\n",
              "37              Missouri           MO\n",
              "38          Pennsylvania           PA\n",
              "39          Rhode Island           RI\n",
              "40        South Carolina           SC\n",
              "41          South Dakota           SD\n",
              "42             Tennessee           TN\n",
              "43                 Texas           TX\n",
              "44                  Utah           UT\n",
              "45               Vermont           VT\n",
              "46              Virginia           VA\n",
              "47            Washington           WA\n",
              "48         West Virginia           WV\n",
              "49             Wisconsin           WI\n",
              "50               Wyoming           WY"
            ]
          },
          "metadata": {
            "tags": []
          },
          "execution_count": 9
        }
      ]
    },
    {
      "cell_type": "code",
      "metadata": {
        "colab": {
          "base_uri": "https://localhost:8080/",
          "height": 461
        },
        "id": "GUL453HtXwtI",
        "outputId": "d5dfe6cd-bdb1-4ac3-ac0f-55d192c620ab"
      },
      "source": [
        "filtro = states['Abbreviation']\n",
        "selecao = df['estado'].isin(filtro)\n",
        "df_eua = df_sem_nulo[selecao].reset_index(drop=True)\n",
        "df_eua"
      ],
      "execution_count": null,
      "outputs": [
        {
          "output_type": "stream",
          "text": [
            "/usr/local/lib/python3.7/dist-packages/ipykernel_launcher.py:3: UserWarning: Boolean Series key will be reindexed to match DataFrame index.\n",
            "  This is separate from the ipykernel package so we can avoid doing imports until\n"
          ],
          "name": "stderr"
        },
        {
          "output_type": "execute_result",
          "data": {
            "text/html": [
              "<div>\n",
              "<style scoped>\n",
              "    .dataframe tbody tr th:only-of-type {\n",
              "        vertical-align: middle;\n",
              "    }\n",
              "\n",
              "    .dataframe tbody tr th {\n",
              "        vertical-align: top;\n",
              "    }\n",
              "\n",
              "    .dataframe thead th {\n",
              "        text-align: right;\n",
              "    }\n",
              "</style>\n",
              "<table border=\"1\" class=\"dataframe\">\n",
              "  <thead>\n",
              "    <tr style=\"text-align: right;\">\n",
              "      <th></th>\n",
              "      <th>data</th>\n",
              "      <th>cidade</th>\n",
              "      <th>estado</th>\n",
              "      <th>formato</th>\n",
              "      <th>duracao</th>\n",
              "      <th>resumo</th>\n",
              "      <th>postado</th>\n",
              "    </tr>\n",
              "  </thead>\n",
              "  <tbody>\n",
              "    <tr>\n",
              "      <th>0</th>\n",
              "      <td>9/30/97 22:00</td>\n",
              "      <td>Madison</td>\n",
              "      <td>WI</td>\n",
              "      <td>Light</td>\n",
              "      <td>5 minutes</td>\n",
              "      <td>Strange light inside Lake Monona</td>\n",
              "      <td>3/2/04</td>\n",
              "    </tr>\n",
              "    <tr>\n",
              "      <th>1</th>\n",
              "      <td>9/28/97 23:15</td>\n",
              "      <td>San Francisco</td>\n",
              "      <td>CA</td>\n",
              "      <td>Triangle</td>\n",
              "      <td>12-15s</td>\n",
              "      <td>flying-wing shape outlined by 12-14 lights. Ap...</td>\n",
              "      <td>7/5/99</td>\n",
              "    </tr>\n",
              "    <tr>\n",
              "      <th>2</th>\n",
              "      <td>9/27/97 23:00</td>\n",
              "      <td>Egan</td>\n",
              "      <td>SD</td>\n",
              "      <td>Other</td>\n",
              "      <td>30 minutes</td>\n",
              "      <td>The Weirdest Thing I Have Ever Seen</td>\n",
              "      <td>2/22/05</td>\n",
              "    </tr>\n",
              "    <tr>\n",
              "      <th>3</th>\n",
              "      <td>9/27/97 05:00</td>\n",
              "      <td>Crestwood</td>\n",
              "      <td>KY</td>\n",
              "      <td>Disk</td>\n",
              "      <td>15 minutes</td>\n",
              "      <td>A big disk with red and green lights on the ri...</td>\n",
              "      <td>8/5/01</td>\n",
              "    </tr>\n",
              "    <tr>\n",
              "      <th>4</th>\n",
              "      <td>9/25/97 22:00</td>\n",
              "      <td>Clearfield</td>\n",
              "      <td>UT</td>\n",
              "      <td>Triangle</td>\n",
              "      <td>60-90 seconds</td>\n",
              "      <td>We observed a low flying craft (aprox.100yards...</td>\n",
              "      <td>1/28/99</td>\n",
              "    </tr>\n",
              "    <tr>\n",
              "      <th>...</th>\n",
              "      <td>...</td>\n",
              "      <td>...</td>\n",
              "      <td>...</td>\n",
              "      <td>...</td>\n",
              "      <td>...</td>\n",
              "      <td>...</td>\n",
              "      <td>...</td>\n",
              "    </tr>\n",
              "    <tr>\n",
              "      <th>81873</th>\n",
              "      <td>8/1/17 02:45</td>\n",
              "      <td>Corcoran</td>\n",
              "      <td>MN</td>\n",
              "      <td>Light</td>\n",
              "      <td>Still going</td>\n",
              "      <td>Small light south west of Minneapolis maneuver...</td>\n",
              "      <td>8/4/17</td>\n",
              "    </tr>\n",
              "    <tr>\n",
              "      <th>81874</th>\n",
              "      <td>8/1/17 02:00</td>\n",
              "      <td>Moreno Valley</td>\n",
              "      <td>CA</td>\n",
              "      <td>Other</td>\n",
              "      <td>10 seconds</td>\n",
              "      <td>I was looking out the front windshield and loo...</td>\n",
              "      <td>8/4/17</td>\n",
              "    </tr>\n",
              "    <tr>\n",
              "      <th>81875</th>\n",
              "      <td>8/1/17 01:00</td>\n",
              "      <td>Bradenton</td>\n",
              "      <td>FL</td>\n",
              "      <td>Other</td>\n",
              "      <td>&lt;20 seconds</td>\n",
              "      <td>I was walking my dog about 1am on August 1, 20...</td>\n",
              "      <td>5/9/19</td>\n",
              "    </tr>\n",
              "    <tr>\n",
              "      <th>81876</th>\n",
              "      <td>8/1/17 00:00</td>\n",
              "      <td>Springdale</td>\n",
              "      <td>AR</td>\n",
              "      <td>NaN</td>\n",
              "      <td>1 hour</td>\n",
              "      <td>Glowing flying people . seven of them flying l...</td>\n",
              "      <td>2/13/20</td>\n",
              "    </tr>\n",
              "    <tr>\n",
              "      <th>81877</th>\n",
              "      <td>8/1/17</td>\n",
              "      <td>Laurel</td>\n",
              "      <td>MD</td>\n",
              "      <td>Other</td>\n",
              "      <td>NaN</td>\n",
              "      <td>It was an alien project level 1 federal ran on...</td>\n",
              "      <td>6/25/20</td>\n",
              "    </tr>\n",
              "  </tbody>\n",
              "</table>\n",
              "<p>81878 rows × 7 columns</p>\n",
              "</div>"
            ],
            "text/plain": [
              "                data  ...  postado\n",
              "0      9/30/97 22:00  ...   3/2/04\n",
              "1      9/28/97 23:15  ...   7/5/99\n",
              "2      9/27/97 23:00  ...  2/22/05\n",
              "3      9/27/97 05:00  ...   8/5/01\n",
              "4      9/25/97 22:00  ...  1/28/99\n",
              "...              ...  ...      ...\n",
              "81873   8/1/17 02:45  ...   8/4/17\n",
              "81874   8/1/17 02:00  ...   8/4/17\n",
              "81875   8/1/17 01:00  ...   5/9/19\n",
              "81876   8/1/17 00:00  ...  2/13/20\n",
              "81877         8/1/17  ...  6/25/20\n",
              "\n",
              "[81878 rows x 7 columns]"
            ]
          },
          "metadata": {
            "tags": []
          },
          "execution_count": 10
        }
      ]
    },
    {
      "cell_type": "markdown",
      "metadata": {
        "id": "gZs0r8uKbbJ-"
      },
      "source": [
        "## 5 - Consulta por cidades, com o objetivo de saber quais contêm o maior número de relatos (cidades que apresentem ao menos 10 relatos)."
      ]
    },
    {
      "cell_type": "code",
      "metadata": {
        "colab": {
          "base_uri": "https://localhost:8080/",
          "height": 424
        },
        "id": "mRGqUch7X4b3",
        "outputId": "6172be85-c7af-41dd-8b3f-51a23428b974"
      },
      "source": [
        "selecao_cidades = df_eua['cidade'].value_counts(sort=True) >= 10\n",
        "\n",
        "selecao_cidades_10 = selecao_cidades[selecao_cidades].index\n",
        "df_eua_10_cases = df_eua[df_eua['cidade'].isin(selecao_cidades_10)].reset_index()\n",
        "df_eua_10_cases"
      ],
      "execution_count": null,
      "outputs": [
        {
          "output_type": "execute_result",
          "data": {
            "text/html": [
              "<div>\n",
              "<style scoped>\n",
              "    .dataframe tbody tr th:only-of-type {\n",
              "        vertical-align: middle;\n",
              "    }\n",
              "\n",
              "    .dataframe tbody tr th {\n",
              "        vertical-align: top;\n",
              "    }\n",
              "\n",
              "    .dataframe thead th {\n",
              "        text-align: right;\n",
              "    }\n",
              "</style>\n",
              "<table border=\"1\" class=\"dataframe\">\n",
              "  <thead>\n",
              "    <tr style=\"text-align: right;\">\n",
              "      <th></th>\n",
              "      <th>index</th>\n",
              "      <th>data</th>\n",
              "      <th>cidade</th>\n",
              "      <th>estado</th>\n",
              "      <th>formato</th>\n",
              "      <th>duracao</th>\n",
              "      <th>resumo</th>\n",
              "      <th>postado</th>\n",
              "    </tr>\n",
              "  </thead>\n",
              "  <tbody>\n",
              "    <tr>\n",
              "      <th>0</th>\n",
              "      <td>0</td>\n",
              "      <td>9/30/97 22:00</td>\n",
              "      <td>Madison</td>\n",
              "      <td>WI</td>\n",
              "      <td>Light</td>\n",
              "      <td>5 minutes</td>\n",
              "      <td>Strange light inside Lake Monona</td>\n",
              "      <td>3/2/04</td>\n",
              "    </tr>\n",
              "    <tr>\n",
              "      <th>1</th>\n",
              "      <td>1</td>\n",
              "      <td>9/28/97 23:15</td>\n",
              "      <td>San Francisco</td>\n",
              "      <td>CA</td>\n",
              "      <td>Triangle</td>\n",
              "      <td>12-15s</td>\n",
              "      <td>flying-wing shape outlined by 12-14 lights. Ap...</td>\n",
              "      <td>7/5/99</td>\n",
              "    </tr>\n",
              "    <tr>\n",
              "      <th>2</th>\n",
              "      <td>4</td>\n",
              "      <td>9/25/97 22:00</td>\n",
              "      <td>Clearfield</td>\n",
              "      <td>UT</td>\n",
              "      <td>Triangle</td>\n",
              "      <td>60-90 seconds</td>\n",
              "      <td>We observed a low flying craft (aprox.100yards...</td>\n",
              "      <td>1/28/99</td>\n",
              "    </tr>\n",
              "    <tr>\n",
              "      <th>3</th>\n",
              "      <td>6</td>\n",
              "      <td>9/24/97 14:30</td>\n",
              "      <td>Muskegon</td>\n",
              "      <td>MI</td>\n",
              "      <td>Disk</td>\n",
              "      <td>several seconds</td>\n",
              "      <td>Saw from a car. Metallic saucer about 1 mile a...</td>\n",
              "      <td>4/15/00</td>\n",
              "    </tr>\n",
              "    <tr>\n",
              "      <th>4</th>\n",
              "      <td>7</td>\n",
              "      <td>9/23/97 22:30</td>\n",
              "      <td>Brewster</td>\n",
              "      <td>NY</td>\n",
              "      <td>Triangle</td>\n",
              "      <td>30sec</td>\n",
              "      <td>Triangle Shaped-Matte finished flying object \"...</td>\n",
              "      <td>8/30/99</td>\n",
              "    </tr>\n",
              "    <tr>\n",
              "      <th>...</th>\n",
              "      <td>...</td>\n",
              "      <td>...</td>\n",
              "      <td>...</td>\n",
              "      <td>...</td>\n",
              "      <td>...</td>\n",
              "      <td>...</td>\n",
              "      <td>...</td>\n",
              "      <td>...</td>\n",
              "    </tr>\n",
              "    <tr>\n",
              "      <th>52184</th>\n",
              "      <td>81871</td>\n",
              "      <td>8/1/17 14:00</td>\n",
              "      <td>Joliet</td>\n",
              "      <td>IL</td>\n",
              "      <td>Other</td>\n",
              "      <td>2 minutes</td>\n",
              "      <td>The White Cube UFO</td>\n",
              "      <td>7/25/19</td>\n",
              "    </tr>\n",
              "    <tr>\n",
              "      <th>52185</th>\n",
              "      <td>81874</td>\n",
              "      <td>8/1/17 02:00</td>\n",
              "      <td>Moreno Valley</td>\n",
              "      <td>CA</td>\n",
              "      <td>Other</td>\n",
              "      <td>10 seconds</td>\n",
              "      <td>I was looking out the front windshield and loo...</td>\n",
              "      <td>8/4/17</td>\n",
              "    </tr>\n",
              "    <tr>\n",
              "      <th>52186</th>\n",
              "      <td>81875</td>\n",
              "      <td>8/1/17 01:00</td>\n",
              "      <td>Bradenton</td>\n",
              "      <td>FL</td>\n",
              "      <td>Other</td>\n",
              "      <td>&lt;20 seconds</td>\n",
              "      <td>I was walking my dog about 1am on August 1, 20...</td>\n",
              "      <td>5/9/19</td>\n",
              "    </tr>\n",
              "    <tr>\n",
              "      <th>52187</th>\n",
              "      <td>81876</td>\n",
              "      <td>8/1/17 00:00</td>\n",
              "      <td>Springdale</td>\n",
              "      <td>AR</td>\n",
              "      <td>NaN</td>\n",
              "      <td>1 hour</td>\n",
              "      <td>Glowing flying people . seven of them flying l...</td>\n",
              "      <td>2/13/20</td>\n",
              "    </tr>\n",
              "    <tr>\n",
              "      <th>52188</th>\n",
              "      <td>81877</td>\n",
              "      <td>8/1/17</td>\n",
              "      <td>Laurel</td>\n",
              "      <td>MD</td>\n",
              "      <td>Other</td>\n",
              "      <td>NaN</td>\n",
              "      <td>It was an alien project level 1 federal ran on...</td>\n",
              "      <td>6/25/20</td>\n",
              "    </tr>\n",
              "  </tbody>\n",
              "</table>\n",
              "<p>52189 rows × 8 columns</p>\n",
              "</div>"
            ],
            "text/plain": [
              "       index  ...  postado\n",
              "0          0  ...   3/2/04\n",
              "1          1  ...   7/5/99\n",
              "2          4  ...  1/28/99\n",
              "3          6  ...  4/15/00\n",
              "4          7  ...  8/30/99\n",
              "...      ...  ...      ...\n",
              "52184  81871  ...  7/25/19\n",
              "52185  81874  ...   8/4/17\n",
              "52186  81875  ...   5/9/19\n",
              "52187  81876  ...  2/13/20\n",
              "52188  81877  ...  6/25/20\n",
              "\n",
              "[52189 rows x 8 columns]"
            ]
          },
          "metadata": {
            "tags": []
          },
          "execution_count": 11
        }
      ]
    },
    {
      "cell_type": "code",
      "metadata": {
        "colab": {
          "base_uri": "https://localhost:8080/"
        },
        "id": "ISK78IOTr0CI",
        "outputId": "e41adb8d-aea7-4fb0-8a55-14367e5278eb"
      },
      "source": [
        "df_eua_10_cases['cidade'].value_counts(sort=True) "
      ],
      "execution_count": null,
      "outputs": [
        {
          "output_type": "execute_result",
          "data": {
            "text/plain": [
              "Phoenix        486\n",
              "Seattle        462\n",
              "Portland       421\n",
              "Las Vegas      408\n",
              "San Diego      347\n",
              "              ... \n",
              "Moscow          10\n",
              "Ludlow          10\n",
              "Taylors         10\n",
              "Euless          10\n",
              "Saint Cloud     10\n",
              "Name: cidade, Length: 1699, dtype: int64"
            ]
          },
          "metadata": {
            "tags": []
          },
          "execution_count": 12
        }
      ]
    },
    {
      "cell_type": "markdown",
      "metadata": {
        "id": "EOM8foDpxQJ5"
      },
      "source": [
        "## 6 - Com o dado anterior, responder a seguinte pergunta: por que será que essa é a cidade que possui mais relatos?"
      ]
    },
    {
      "cell_type": "markdown",
      "metadata": {
        "id": "-DvlXRRPNf2d"
      },
      "source": [
        "### A cidade que possui mais relatos é a cidade de Phonix no Arizona provavelmente devido a este estado ter clima predominantemente árido e semi-árido a visualização de objetos no céu é mais fácil, uma vez que há pouco formação de nuvens."
      ]
    },
    {
      "cell_type": "code",
      "metadata": {
        "id": "d2klk68UN0j2"
      },
      "source": [
        "selecao_phoenix = df_eua_10_cases['cidade'] == 'Phoenix'\n",
        "df_eua_phoenix = df_eua_10_cases[selecao_phoenix].reset_index(drop=True)"
      ],
      "execution_count": null,
      "outputs": []
    },
    {
      "cell_type": "code",
      "metadata": {
        "colab": {
          "base_uri": "https://localhost:8080/"
        },
        "id": "qR8GKwa4Om2z",
        "outputId": "6090da18-7527-4d7c-8c1c-6040eb184ae9"
      },
      "source": [
        "df_eua_phoenix['data'].str[-8:-6].value_counts(sort=True) "
      ],
      "execution_count": null,
      "outputs": [
        {
          "output_type": "execute_result",
          "data": {
            "text/plain": [
              "15    41\n",
              "05    40\n",
              "16    40\n",
              "14    37\n",
              "08    34\n",
              "04    33\n",
              "17    28\n",
              "12    27\n",
              "09    24\n",
              "13    24\n",
              "06    23\n",
              "11    19\n",
              "01    18\n",
              "02    17\n",
              "00    15\n",
              "99    15\n",
              "10    14\n",
              "03    13\n",
              "07    12\n",
              "98     9\n",
              "5      1\n",
              "9      1\n",
              "7      1\n",
              "Name: data, dtype: int64"
            ]
          },
          "metadata": {
            "tags": []
          },
          "execution_count": 14
        }
      ]
    },
    {
      "cell_type": "markdown",
      "metadata": {
        "id": "g8XXggZNxfDs"
      },
      "source": [
        "## 7 - Fazer uma query exclusiva para o estado com maior número de relatos, buscando cidades que possuam um número superior a 10 relatórios. Enfatizar a cidade, a quantidade de relatos e formato do objeto não identificado."
      ]
    },
    {
      "cell_type": "code",
      "metadata": {
        "colab": {
          "base_uri": "https://localhost:8080/"
        },
        "id": "daEt59tGxdFi",
        "outputId": "4edecfac-db22-4554-bbce-30f7ca6ba8b6"
      },
      "source": [
        "df_eua_10_cases['estado'].value_counts(sort=True) "
      ],
      "execution_count": null,
      "outputs": [
        {
          "output_type": "execute_result",
          "data": {
            "text/plain": [
              "CA    7401\n",
              "FL    3779\n",
              "WA    3272\n",
              "AZ    2433\n",
              "TX    2307\n",
              "      ... \n",
              "PQ      23\n",
              "SA      11\n",
              "NF       1\n",
              "PE       1\n",
              "YT       1\n",
              "Name: estado, Length: 64, dtype: int64"
            ]
          },
          "metadata": {
            "tags": []
          },
          "execution_count": 15
        }
      ]
    },
    {
      "cell_type": "code",
      "metadata": {
        "colab": {
          "base_uri": "https://localhost:8080/",
          "height": 424
        },
        "id": "K7Be2a_yx4W6",
        "outputId": "6952b32c-3c9a-4454-9a8e-be3626950afe"
      },
      "source": [
        "selecao_top_estado = df_eua_10_cases['estado'] == 'WA'\n",
        "df_eua_estado_maior_caso = df_eua_10_cases[selecao_top_estado].reset_index(drop=True)\n",
        "df_eua_estado_maior_caso"
      ],
      "execution_count": null,
      "outputs": [
        {
          "output_type": "execute_result",
          "data": {
            "text/html": [
              "<div>\n",
              "<style scoped>\n",
              "    .dataframe tbody tr th:only-of-type {\n",
              "        vertical-align: middle;\n",
              "    }\n",
              "\n",
              "    .dataframe tbody tr th {\n",
              "        vertical-align: top;\n",
              "    }\n",
              "\n",
              "    .dataframe thead th {\n",
              "        text-align: right;\n",
              "    }\n",
              "</style>\n",
              "<table border=\"1\" class=\"dataframe\">\n",
              "  <thead>\n",
              "    <tr style=\"text-align: right;\">\n",
              "      <th></th>\n",
              "      <th>index</th>\n",
              "      <th>data</th>\n",
              "      <th>cidade</th>\n",
              "      <th>estado</th>\n",
              "      <th>formato</th>\n",
              "      <th>duracao</th>\n",
              "      <th>resumo</th>\n",
              "      <th>postado</th>\n",
              "    </tr>\n",
              "  </thead>\n",
              "  <tbody>\n",
              "    <tr>\n",
              "      <th>0</th>\n",
              "      <td>17</td>\n",
              "      <td>9/19/97 21:00</td>\n",
              "      <td>Seattle</td>\n",
              "      <td>WA</td>\n",
              "      <td>other</td>\n",
              "      <td>1-2 min</td>\n",
              "      <td>On the night described above, We were getting ...</td>\n",
              "      <td>1/28/99</td>\n",
              "    </tr>\n",
              "    <tr>\n",
              "      <th>1</th>\n",
              "      <td>31</td>\n",
              "      <td>9/15/97 20:00</td>\n",
              "      <td>Kent</td>\n",
              "      <td>WA</td>\n",
              "      <td>Sphere</td>\n",
              "      <td>5 minutes</td>\n",
              "      <td>Was looking thru a telescope at the moon in 19...</td>\n",
              "      <td>3/17/17</td>\n",
              "    </tr>\n",
              "    <tr>\n",
              "      <th>2</th>\n",
              "      <td>34</td>\n",
              "      <td>9/15/97 20:00</td>\n",
              "      <td>Bellevue</td>\n",
              "      <td>WA</td>\n",
              "      <td>NaN</td>\n",
              "      <td>1 hour</td>\n",
              "      <td>Phone call from a purported alien living on ea...</td>\n",
              "      <td>7/28/10</td>\n",
              "    </tr>\n",
              "    <tr>\n",
              "      <th>3</th>\n",
              "      <td>43</td>\n",
              "      <td>9/6/97 04:47</td>\n",
              "      <td>Covington</td>\n",
              "      <td>WA</td>\n",
              "      <td>Triangle</td>\n",
              "      <td>15 min</td>\n",
              "      <td>Triangle shaped with six lights underneath.  O...</td>\n",
              "      <td>1/28/99</td>\n",
              "    </tr>\n",
              "    <tr>\n",
              "      <th>4</th>\n",
              "      <td>73</td>\n",
              "      <td>10/20/97 08:45</td>\n",
              "      <td>Gig Harbor</td>\n",
              "      <td>WA</td>\n",
              "      <td>Light</td>\n",
              "      <td>30 seconds to 1 minute</td>\n",
              "      <td>I saw my first UFO when I was on my way to sch...</td>\n",
              "      <td>12/12/11</td>\n",
              "    </tr>\n",
              "    <tr>\n",
              "      <th>...</th>\n",
              "      <td>...</td>\n",
              "      <td>...</td>\n",
              "      <td>...</td>\n",
              "      <td>...</td>\n",
              "      <td>...</td>\n",
              "      <td>...</td>\n",
              "      <td>...</td>\n",
              "      <td>...</td>\n",
              "    </tr>\n",
              "    <tr>\n",
              "      <th>3267</th>\n",
              "      <td>81629</td>\n",
              "      <td>8/20/17 18:30</td>\n",
              "      <td>Seattle</td>\n",
              "      <td>WA</td>\n",
              "      <td>Unknown</td>\n",
              "      <td>10 minutes</td>\n",
              "      <td>West to east direction, illiuminated by son.  ...</td>\n",
              "      <td>8/24/17</td>\n",
              "    </tr>\n",
              "    <tr>\n",
              "      <th>3268</th>\n",
              "      <td>81693</td>\n",
              "      <td>8/15/17 11:00</td>\n",
              "      <td>Seattle</td>\n",
              "      <td>WA</td>\n",
              "      <td>Changing</td>\n",
              "      <td>50 seconds</td>\n",
              "      <td>North Seattle late morning Orb pulsing differe...</td>\n",
              "      <td>8/24/17</td>\n",
              "    </tr>\n",
              "    <tr>\n",
              "      <th>3269</th>\n",
              "      <td>81755</td>\n",
              "      <td>8/11/17 22:30</td>\n",
              "      <td>Deer Park</td>\n",
              "      <td>WA</td>\n",
              "      <td>Disk</td>\n",
              "      <td>25 seconds</td>\n",
              "      <td>Fri 8/11/17 high flying disc N over Spokane Co...</td>\n",
              "      <td>8/17/17</td>\n",
              "    </tr>\n",
              "    <tr>\n",
              "      <th>3270</th>\n",
              "      <td>81824</td>\n",
              "      <td>8/5/17 19:45</td>\n",
              "      <td>Auburn</td>\n",
              "      <td>WA</td>\n",
              "      <td>Circle</td>\n",
              "      <td>2-3 minutes</td>\n",
              "      <td>Orange and red bright glowing circle in the sk...</td>\n",
              "      <td>8/11/17</td>\n",
              "    </tr>\n",
              "    <tr>\n",
              "      <th>3271</th>\n",
              "      <td>81850</td>\n",
              "      <td>8/2/17 23:55</td>\n",
              "      <td>Lincoln</td>\n",
              "      <td>WA</td>\n",
              "      <td>Disk</td>\n",
              "      <td>10 minutes</td>\n",
              "      <td>White flashing lights on one mile long disk ho...</td>\n",
              "      <td>8/4/17</td>\n",
              "    </tr>\n",
              "  </tbody>\n",
              "</table>\n",
              "<p>3272 rows × 8 columns</p>\n",
              "</div>"
            ],
            "text/plain": [
              "      index  ...   postado\n",
              "0        17  ...   1/28/99\n",
              "1        31  ...   3/17/17\n",
              "2        34  ...   7/28/10\n",
              "3        43  ...   1/28/99\n",
              "4        73  ...  12/12/11\n",
              "...     ...  ...       ...\n",
              "3267  81629  ...   8/24/17\n",
              "3268  81693  ...   8/24/17\n",
              "3269  81755  ...   8/17/17\n",
              "3270  81824  ...   8/11/17\n",
              "3271  81850  ...    8/4/17\n",
              "\n",
              "[3272 rows x 8 columns]"
            ]
          },
          "metadata": {
            "tags": []
          },
          "execution_count": 16
        }
      ]
    },
    {
      "cell_type": "code",
      "metadata": {
        "colab": {
          "base_uri": "https://localhost:8080/"
        },
        "id": "wgFGXah6x-E-",
        "outputId": "cc9a6d93-9828-4cd6-c0ba-6fe03e8c944f"
      },
      "source": [
        "df_eua_estado_maior_caso['formato'].value_counts(sort=True) "
      ],
      "execution_count": null,
      "outputs": [
        {
          "output_type": "execute_result",
          "data": {
            "text/plain": [
              "Light        768\n",
              "Circle       326\n",
              "Fireball     294\n",
              "Unknown      269\n",
              "Triangle     267\n",
              "Other        229\n",
              "Sphere       228\n",
              "Oval         133\n",
              "Disk         115\n",
              "Formation    107\n",
              "Changing      79\n",
              "Flash         63\n",
              "Cylinder      53\n",
              "Rectangle     51\n",
              "Cigar         46\n",
              "Chevron       44\n",
              "Diamond       43\n",
              "Egg           27\n",
              "Teardrop      25\n",
              "Cone          14\n",
              "Cross          8\n",
              "other          1\n",
              "Name: formato, dtype: int64"
            ]
          },
          "metadata": {
            "tags": []
          },
          "execution_count": 17
        }
      ]
    },
    {
      "cell_type": "code",
      "metadata": {
        "colab": {
          "base_uri": "https://localhost:8080/"
        },
        "id": "CoEJ4Vskyaf-",
        "outputId": "3e29a241-3eb7-4ac3-8fae-76ef5c2c1092"
      },
      "source": [
        "df_eua_estado_maior_caso['cidade'].value_counts(sort=True) "
      ],
      "execution_count": null,
      "outputs": [
        {
          "output_type": "execute_result",
          "data": {
            "text/plain": [
              "Seattle      461\n",
              "Vancouver    150\n",
              "Spokane      132\n",
              "Tacoma       131\n",
              "Everett      110\n",
              "            ... \n",
              "Midland        1\n",
              "Deming         1\n",
              "Fairfield      1\n",
              "Union          1\n",
              "Dayton         1\n",
              "Name: cidade, Length: 140, dtype: int64"
            ]
          },
          "metadata": {
            "tags": []
          },
          "execution_count": 18
        }
      ]
    },
    {
      "cell_type": "code",
      "metadata": {
        "colab": {
          "base_uri": "https://localhost:8080/"
        },
        "id": "ryjh_2IUy59G",
        "outputId": "ef89ffd7-c253-41a4-e86d-b2d0eafcc7c1"
      },
      "source": [
        "df_eua_estado_maior_caso['duracao'].value_counts(sort=True).head(n=10)"
      ],
      "execution_count": null,
      "outputs": [
        {
          "output_type": "execute_result",
          "data": {
            "text/plain": [
              "5 minutes     190\n",
              "10 minutes    136\n",
              "2 minutes     129\n",
              "3 minutes     123\n",
              "1 minute      120\n",
              "15 minutes     91\n",
              "10 seconds     83\n",
              "30 seconds     81\n",
              "5 seconds      68\n",
              "20 minutes     58\n",
              "Name: duracao, dtype: int64"
            ]
          },
          "metadata": {
            "tags": []
          },
          "execution_count": 19
        }
      ]
    }
  ]
}