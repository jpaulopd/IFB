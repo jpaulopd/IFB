{
  "nbformat": 4,
  "nbformat_minor": 0,
  "metadata": {
    "colab": {
      "name": "sprint2_pi_g1_limpeza_dados",
      "provenance": [],
      "collapsed_sections": [
        "qukIlsj4S1Oc"
      ]
    },
    "kernelspec": {
      "name": "python3",
      "display_name": "Python 3"
    },
    "language_info": {
      "name": "python"
    }
  },
  "cells": [
    {
      "cell_type": "markdown",
      "metadata": {
        "id": "Sc40xMhlOLcd"
      },
      "source": [
        "# **Sprint 2 - Exploração dos dados com SQL**\n",
        "\n"
      ]
    },
    {
      "cell_type": "code",
      "metadata": {
        "id": "Dk56uaJuajYC"
      },
      "source": [
        "import pandas as pd\n",
        "url = 'https://raw.githubusercontent.com/infocbra/pratica-integrada-cd-e-am-2021-1-g1-ghjp/master/1_sprint/ovinis_data.csv?token=AG2WN5KNZSJ3F2RYPKRQRL3BCLLMU'\n",
        "df = pd.read_csv(url,sep=',')"
      ],
      "execution_count": null,
      "outputs": []
    },
    {
      "cell_type": "markdown",
      "metadata": {
        "id": "496PSGKLSJOq"
      },
      "source": [
        "## 1 - Carregar o seu arquivo OVNIS.csv em um dataframe;"
      ]
    },
    {
      "cell_type": "code",
      "metadata": {
        "colab": {
          "base_uri": "https://localhost:8080/",
          "height": 206
        },
        "id": "gotGlrzSOVec",
        "outputId": "e8d504af-1ef5-4f1c-8a92-66b26028c288"
      },
      "source": [
        "df.drop(df.columns[0], axis=1, inplace=True)\n",
        "df.head()"
      ],
      "execution_count": null,
      "outputs": [
        {
          "output_type": "execute_result",
          "data": {
            "text/html": [
              "<div>\n",
              "<style scoped>\n",
              "    .dataframe tbody tr th:only-of-type {\n",
              "        vertical-align: middle;\n",
              "    }\n",
              "\n",
              "    .dataframe tbody tr th {\n",
              "        vertical-align: top;\n",
              "    }\n",
              "\n",
              "    .dataframe thead th {\n",
              "        text-align: right;\n",
              "    }\n",
              "</style>\n",
              "<table border=\"1\" class=\"dataframe\">\n",
              "  <thead>\n",
              "    <tr style=\"text-align: right;\">\n",
              "      <th></th>\n",
              "      <th>data</th>\n",
              "      <th>cidade</th>\n",
              "      <th>estado</th>\n",
              "      <th>formato</th>\n",
              "      <th>duracao</th>\n",
              "      <th>resumo</th>\n",
              "      <th>postado</th>\n",
              "    </tr>\n",
              "  </thead>\n",
              "  <tbody>\n",
              "    <tr>\n",
              "      <th>0</th>\n",
              "      <td>9/30/97 22:00</td>\n",
              "      <td>Madison</td>\n",
              "      <td>WI</td>\n",
              "      <td>Light</td>\n",
              "      <td>5 minutes</td>\n",
              "      <td>Strange light inside Lake Monona</td>\n",
              "      <td>3/2/04</td>\n",
              "    </tr>\n",
              "    <tr>\n",
              "      <th>1</th>\n",
              "      <td>9/30/97 20:00</td>\n",
              "      <td>Nova Scotia (Canada)</td>\n",
              "      <td>NS</td>\n",
              "      <td>Light</td>\n",
              "      <td>8-10 seconds.</td>\n",
              "      <td>Single light resembling a star, but moving spu...</td>\n",
              "      <td>10/30/06</td>\n",
              "    </tr>\n",
              "    <tr>\n",
              "      <th>2</th>\n",
              "      <td>9/28/97 23:15</td>\n",
              "      <td>San Francisco</td>\n",
              "      <td>CA</td>\n",
              "      <td>Triangle</td>\n",
              "      <td>12-15s</td>\n",
              "      <td>flying-wing shape outlined by 12-14 lights. Ap...</td>\n",
              "      <td>7/5/99</td>\n",
              "    </tr>\n",
              "    <tr>\n",
              "      <th>3</th>\n",
              "      <td>9/27/97 23:00</td>\n",
              "      <td>Egan</td>\n",
              "      <td>SD</td>\n",
              "      <td>Other</td>\n",
              "      <td>30 minutes</td>\n",
              "      <td>The Weirdest Thing I Have Ever Seen</td>\n",
              "      <td>2/22/05</td>\n",
              "    </tr>\n",
              "    <tr>\n",
              "      <th>4</th>\n",
              "      <td>9/27/97 05:00</td>\n",
              "      <td>Crestwood</td>\n",
              "      <td>KY</td>\n",
              "      <td>Disk</td>\n",
              "      <td>15 minutes</td>\n",
              "      <td>A big disk with red and green lights on the ri...</td>\n",
              "      <td>8/5/01</td>\n",
              "    </tr>\n",
              "  </tbody>\n",
              "</table>\n",
              "</div>"
            ],
            "text/plain": [
              "            data  ...   postado\n",
              "0  9/30/97 22:00  ...    3/2/04\n",
              "1  9/30/97 20:00  ...  10/30/06\n",
              "2  9/28/97 23:15  ...    7/5/99\n",
              "3  9/27/97 23:00  ...   2/22/05\n",
              "4  9/27/97 05:00  ...    8/5/01\n",
              "\n",
              "[5 rows x 7 columns]"
            ]
          },
          "metadata": {
            "tags": []
          },
          "execution_count": 2
        }
      ]
    },
    {
      "cell_type": "code",
      "metadata": {
        "colab": {
          "base_uri": "https://localhost:8080/"
        },
        "id": "b-wDuAMAp_u6",
        "outputId": "27212b69-9976-48a0-93d6-9d35169b6223"
      },
      "source": [
        "df.info()"
      ],
      "execution_count": null,
      "outputs": [
        {
          "output_type": "stream",
          "text": [
            "<class 'pandas.core.frame.DataFrame'>\n",
            "RangeIndex: 100157 entries, 0 to 100156\n",
            "Data columns (total 7 columns):\n",
            " #   Column   Non-Null Count   Dtype \n",
            "---  ------   --------------   ----- \n",
            " 0   data     100157 non-null  object\n",
            " 1   cidade   99959 non-null   object\n",
            " 2   estado   92931 non-null   object\n",
            " 3   formato  98130 non-null   object\n",
            " 4   duracao  97156 non-null   object\n",
            " 5   resumo   100137 non-null  object\n",
            " 6   postado  100157 non-null  object\n",
            "dtypes: object(7)\n",
            "memory usage: 5.3+ MB\n"
          ],
          "name": "stdout"
        }
      ]
    },
    {
      "cell_type": "markdown",
      "metadata": {
        "id": "mUg6xrbxSUAx"
      },
      "source": [
        "\n",
        "## 2 - Remover registros que tenham valores vazios (None, Unknown, ...) para City, State e Shape;\n"
      ]
    },
    {
      "cell_type": "code",
      "metadata": {
        "colab": {
          "base_uri": "https://localhost:8080/"
        },
        "id": "ivFR9ujVSAAs",
        "outputId": "a78589be-d980-467e-8630-78bb018dfd4e"
      },
      "source": [
        "filtro = ['none','None','Unknown','unknown','nan']\n",
        "\n",
        "selecao = (df['cidade'].isnull()) | (df['cidade'].isin(filtro)) | (df['estado'].isnull()) | (df['estado'].isin(filtro)) | (df['formato'].isnull()) | (df['formato'].isin(filtro))\n",
        "\n",
        "df1 = df[~selecao]\n",
        "\n",
        "df1.dropna(how='all')\n",
        "\n",
        "df1.info()"
      ],
      "execution_count": 26,
      "outputs": [
        {
          "output_type": "stream",
          "text": [
            "<class 'pandas.core.frame.DataFrame'>\n",
            "Int64Index: 84384 entries, 0 to 100156\n",
            "Data columns (total 7 columns):\n",
            " #   Column   Non-Null Count  Dtype \n",
            "---  ------   --------------  ----- \n",
            " 0   data     84384 non-null  object\n",
            " 1   cidade   84384 non-null  object\n",
            " 2   estado   84384 non-null  object\n",
            " 3   formato  84384 non-null  object\n",
            " 4   duracao  82372 non-null  object\n",
            " 5   resumo   84376 non-null  object\n",
            " 6   postado  84384 non-null  object\n",
            "dtypes: object(7)\n",
            "memory usage: 5.2+ MB\n"
          ],
          "name": "stdout"
        }
      ]
    },
    {
      "cell_type": "markdown",
      "metadata": {
        "id": "pWfLeErUuEwA"
      },
      "source": [
        "## 3 - Manter somente os registros referentes aos 51 estados dos Estados Unidos"
      ]
    },
    {
      "cell_type": "code",
      "metadata": {
        "colab": {
          "base_uri": "https://localhost:8080/",
          "height": 424
        },
        "id": "X9-Hing1uDK6",
        "outputId": "99c7b28d-b7d8-4010-a1f7-2d6c520170bd"
      },
      "source": [
        "url2 = 'https://raw.githubusercontent.com/oliveirafhm/data_science/master/5_pipeline_dados/usa_states.csv'\n",
        "usa_states = pd.read_csv(url2,sep=',')\n",
        "\n",
        "filtro = usa_states['Abbreviation']\n",
        "selecao = df1['estado'].isin(filtro)\n",
        "df2 = df1[selecao].reset_index(drop=True)\n",
        "df2"
      ],
      "execution_count": null,
      "outputs": [
        {
          "output_type": "execute_result",
          "data": {
            "text/html": [
              "<div>\n",
              "<style scoped>\n",
              "    .dataframe tbody tr th:only-of-type {\n",
              "        vertical-align: middle;\n",
              "    }\n",
              "\n",
              "    .dataframe tbody tr th {\n",
              "        vertical-align: top;\n",
              "    }\n",
              "\n",
              "    .dataframe thead th {\n",
              "        text-align: right;\n",
              "    }\n",
              "</style>\n",
              "<table border=\"1\" class=\"dataframe\">\n",
              "  <thead>\n",
              "    <tr style=\"text-align: right;\">\n",
              "      <th></th>\n",
              "      <th>data</th>\n",
              "      <th>cidade</th>\n",
              "      <th>estado</th>\n",
              "      <th>formato</th>\n",
              "      <th>duracao</th>\n",
              "      <th>resumo</th>\n",
              "      <th>postado</th>\n",
              "    </tr>\n",
              "  </thead>\n",
              "  <tbody>\n",
              "    <tr>\n",
              "      <th>0</th>\n",
              "      <td>9/30/97 22:00</td>\n",
              "      <td>Madison</td>\n",
              "      <td>WI</td>\n",
              "      <td>Light</td>\n",
              "      <td>5 minutes</td>\n",
              "      <td>Strange light inside Lake Monona</td>\n",
              "      <td>3/2/04</td>\n",
              "    </tr>\n",
              "    <tr>\n",
              "      <th>1</th>\n",
              "      <td>9/28/97 23:15</td>\n",
              "      <td>San Francisco</td>\n",
              "      <td>CA</td>\n",
              "      <td>Triangle</td>\n",
              "      <td>12-15s</td>\n",
              "      <td>flying-wing shape outlined by 12-14 lights. Ap...</td>\n",
              "      <td>7/5/99</td>\n",
              "    </tr>\n",
              "    <tr>\n",
              "      <th>2</th>\n",
              "      <td>9/27/97 23:00</td>\n",
              "      <td>Egan</td>\n",
              "      <td>SD</td>\n",
              "      <td>Other</td>\n",
              "      <td>30 minutes</td>\n",
              "      <td>The Weirdest Thing I Have Ever Seen</td>\n",
              "      <td>2/22/05</td>\n",
              "    </tr>\n",
              "    <tr>\n",
              "      <th>3</th>\n",
              "      <td>9/27/97 05:00</td>\n",
              "      <td>Crestwood</td>\n",
              "      <td>KY</td>\n",
              "      <td>Disk</td>\n",
              "      <td>15 minutes</td>\n",
              "      <td>A big disk with red and green lights on the ri...</td>\n",
              "      <td>8/5/01</td>\n",
              "    </tr>\n",
              "    <tr>\n",
              "      <th>4</th>\n",
              "      <td>9/25/97 22:00</td>\n",
              "      <td>Clearfield</td>\n",
              "      <td>UT</td>\n",
              "      <td>Triangle</td>\n",
              "      <td>60-90 seconds</td>\n",
              "      <td>We observed a low flying craft (aprox.100yards...</td>\n",
              "      <td>1/28/99</td>\n",
              "    </tr>\n",
              "    <tr>\n",
              "      <th>...</th>\n",
              "      <td>...</td>\n",
              "      <td>...</td>\n",
              "      <td>...</td>\n",
              "      <td>...</td>\n",
              "      <td>...</td>\n",
              "      <td>...</td>\n",
              "      <td>...</td>\n",
              "    </tr>\n",
              "    <tr>\n",
              "      <th>80486</th>\n",
              "      <td>8/1/17 06:15</td>\n",
              "      <td>Columbus (North)</td>\n",
              "      <td>GA</td>\n",
              "      <td>Fireball</td>\n",
              "      <td>3 seconds</td>\n",
              "      <td>Green streak growing in size moving from west ...</td>\n",
              "      <td>8/4/17</td>\n",
              "    </tr>\n",
              "    <tr>\n",
              "      <th>80487</th>\n",
              "      <td>8/1/17 02:45</td>\n",
              "      <td>Corcoran</td>\n",
              "      <td>MN</td>\n",
              "      <td>Light</td>\n",
              "      <td>Still going</td>\n",
              "      <td>Small light south west of Minneapolis maneuver...</td>\n",
              "      <td>8/4/17</td>\n",
              "    </tr>\n",
              "    <tr>\n",
              "      <th>80488</th>\n",
              "      <td>8/1/17 02:00</td>\n",
              "      <td>Moreno Valley</td>\n",
              "      <td>CA</td>\n",
              "      <td>Other</td>\n",
              "      <td>10 seconds</td>\n",
              "      <td>I was looking out the front windshield and loo...</td>\n",
              "      <td>8/4/17</td>\n",
              "    </tr>\n",
              "    <tr>\n",
              "      <th>80489</th>\n",
              "      <td>8/1/17 01:00</td>\n",
              "      <td>Bradenton</td>\n",
              "      <td>FL</td>\n",
              "      <td>Other</td>\n",
              "      <td>&lt;20 seconds</td>\n",
              "      <td>I was walking my dog about 1am on August 1, 20...</td>\n",
              "      <td>5/9/19</td>\n",
              "    </tr>\n",
              "    <tr>\n",
              "      <th>80490</th>\n",
              "      <td>8/1/17</td>\n",
              "      <td>Laurel</td>\n",
              "      <td>MD</td>\n",
              "      <td>Other</td>\n",
              "      <td>NaN</td>\n",
              "      <td>It was an alien project level 1 federal ran on...</td>\n",
              "      <td>6/25/20</td>\n",
              "    </tr>\n",
              "  </tbody>\n",
              "</table>\n",
              "<p>80491 rows × 7 columns</p>\n",
              "</div>"
            ],
            "text/plain": [
              "                data  ...  postado\n",
              "0      9/30/97 22:00  ...   3/2/04\n",
              "1      9/28/97 23:15  ...   7/5/99\n",
              "2      9/27/97 23:00  ...  2/22/05\n",
              "3      9/27/97 05:00  ...   8/5/01\n",
              "4      9/25/97 22:00  ...  1/28/99\n",
              "...              ...  ...      ...\n",
              "80486   8/1/17 06:15  ...   8/4/17\n",
              "80487   8/1/17 02:45  ...   8/4/17\n",
              "80488   8/1/17 02:00  ...   8/4/17\n",
              "80489   8/1/17 01:00  ...   5/9/19\n",
              "80490         8/1/17  ...  6/25/20\n",
              "\n",
              "[80491 rows x 7 columns]"
            ]
          },
          "metadata": {
            "tags": []
          },
          "execution_count": 5
        }
      ]
    },
    {
      "cell_type": "markdown",
      "metadata": {
        "id": "laPOD2GOXQtv"
      },
      "source": [
        "## 4 - Remover variáveis irrelevantes para a análise (Duration, Summary e Posted);"
      ]
    },
    {
      "cell_type": "code",
      "metadata": {
        "colab": {
          "base_uri": "https://localhost:8080/",
          "height": 424
        },
        "id": "VDE34qZYXZit",
        "outputId": "3dfe9a6c-2552-4aa6-e47e-3655c6737b8e"
      },
      "source": [
        "df3 = df2.drop(df2.columns[4:], axis=1)\n",
        "df3"
      ],
      "execution_count": null,
      "outputs": [
        {
          "output_type": "execute_result",
          "data": {
            "text/html": [
              "<div>\n",
              "<style scoped>\n",
              "    .dataframe tbody tr th:only-of-type {\n",
              "        vertical-align: middle;\n",
              "    }\n",
              "\n",
              "    .dataframe tbody tr th {\n",
              "        vertical-align: top;\n",
              "    }\n",
              "\n",
              "    .dataframe thead th {\n",
              "        text-align: right;\n",
              "    }\n",
              "</style>\n",
              "<table border=\"1\" class=\"dataframe\">\n",
              "  <thead>\n",
              "    <tr style=\"text-align: right;\">\n",
              "      <th></th>\n",
              "      <th>data</th>\n",
              "      <th>cidade</th>\n",
              "      <th>estado</th>\n",
              "      <th>formato</th>\n",
              "    </tr>\n",
              "  </thead>\n",
              "  <tbody>\n",
              "    <tr>\n",
              "      <th>0</th>\n",
              "      <td>9/30/97 22:00</td>\n",
              "      <td>Madison</td>\n",
              "      <td>WI</td>\n",
              "      <td>Light</td>\n",
              "    </tr>\n",
              "    <tr>\n",
              "      <th>1</th>\n",
              "      <td>9/28/97 23:15</td>\n",
              "      <td>San Francisco</td>\n",
              "      <td>CA</td>\n",
              "      <td>Triangle</td>\n",
              "    </tr>\n",
              "    <tr>\n",
              "      <th>2</th>\n",
              "      <td>9/27/97 23:00</td>\n",
              "      <td>Egan</td>\n",
              "      <td>SD</td>\n",
              "      <td>Other</td>\n",
              "    </tr>\n",
              "    <tr>\n",
              "      <th>3</th>\n",
              "      <td>9/27/97 05:00</td>\n",
              "      <td>Crestwood</td>\n",
              "      <td>KY</td>\n",
              "      <td>Disk</td>\n",
              "    </tr>\n",
              "    <tr>\n",
              "      <th>4</th>\n",
              "      <td>9/25/97 22:00</td>\n",
              "      <td>Clearfield</td>\n",
              "      <td>UT</td>\n",
              "      <td>Triangle</td>\n",
              "    </tr>\n",
              "    <tr>\n",
              "      <th>...</th>\n",
              "      <td>...</td>\n",
              "      <td>...</td>\n",
              "      <td>...</td>\n",
              "      <td>...</td>\n",
              "    </tr>\n",
              "    <tr>\n",
              "      <th>80486</th>\n",
              "      <td>8/1/17 06:15</td>\n",
              "      <td>Columbus (North)</td>\n",
              "      <td>GA</td>\n",
              "      <td>Fireball</td>\n",
              "    </tr>\n",
              "    <tr>\n",
              "      <th>80487</th>\n",
              "      <td>8/1/17 02:45</td>\n",
              "      <td>Corcoran</td>\n",
              "      <td>MN</td>\n",
              "      <td>Light</td>\n",
              "    </tr>\n",
              "    <tr>\n",
              "      <th>80488</th>\n",
              "      <td>8/1/17 02:00</td>\n",
              "      <td>Moreno Valley</td>\n",
              "      <td>CA</td>\n",
              "      <td>Other</td>\n",
              "    </tr>\n",
              "    <tr>\n",
              "      <th>80489</th>\n",
              "      <td>8/1/17 01:00</td>\n",
              "      <td>Bradenton</td>\n",
              "      <td>FL</td>\n",
              "      <td>Other</td>\n",
              "    </tr>\n",
              "    <tr>\n",
              "      <th>80490</th>\n",
              "      <td>8/1/17</td>\n",
              "      <td>Laurel</td>\n",
              "      <td>MD</td>\n",
              "      <td>Other</td>\n",
              "    </tr>\n",
              "  </tbody>\n",
              "</table>\n",
              "<p>80491 rows × 4 columns</p>\n",
              "</div>"
            ],
            "text/plain": [
              "                data            cidade estado   formato\n",
              "0      9/30/97 22:00           Madison     WI     Light\n",
              "1      9/28/97 23:15     San Francisco     CA  Triangle\n",
              "2      9/27/97 23:00              Egan     SD     Other\n",
              "3      9/27/97 05:00         Crestwood     KY      Disk\n",
              "4      9/25/97 22:00        Clearfield     UT  Triangle\n",
              "...              ...               ...    ...       ...\n",
              "80486   8/1/17 06:15  Columbus (North)     GA  Fireball\n",
              "80487   8/1/17 02:45          Corcoran     MN     Light\n",
              "80488   8/1/17 02:00     Moreno Valley     CA     Other\n",
              "80489   8/1/17 01:00         Bradenton     FL     Other\n",
              "80490         8/1/17            Laurel     MD     Other\n",
              "\n",
              "[80491 rows x 4 columns]"
            ]
          },
          "metadata": {
            "tags": []
          },
          "execution_count": 12
        }
      ]
    },
    {
      "cell_type": "markdown",
      "metadata": {
        "id": "gZs0r8uKbbJ-"
      },
      "source": [
        "## 5 - Manter somente os registros de Shapes mais populares (com mais de 1000 ocorrências);"
      ]
    },
    {
      "cell_type": "code",
      "metadata": {
        "colab": {
          "base_uri": "https://localhost:8080/",
          "height": 424
        },
        "id": "mRGqUch7X4b3",
        "outputId": "78a4e576-4403-4340-997a-e05786ca907b"
      },
      "source": [
        "#df3['formato'].value_counts(sort=True) >= 1000\n",
        "\n",
        "selecao = df3['formato'].value_counts(sort=True) >= 1000\n",
        "selecao = selecao[selecao].index\n",
        "df4 = df3[df3['formato'].isin(selecao)].reset_index()\n",
        "df4"
      ],
      "execution_count": null,
      "outputs": [
        {
          "output_type": "execute_result",
          "data": {
            "text/html": [
              "<div>\n",
              "<style scoped>\n",
              "    .dataframe tbody tr th:only-of-type {\n",
              "        vertical-align: middle;\n",
              "    }\n",
              "\n",
              "    .dataframe tbody tr th {\n",
              "        vertical-align: top;\n",
              "    }\n",
              "\n",
              "    .dataframe thead th {\n",
              "        text-align: right;\n",
              "    }\n",
              "</style>\n",
              "<table border=\"1\" class=\"dataframe\">\n",
              "  <thead>\n",
              "    <tr style=\"text-align: right;\">\n",
              "      <th></th>\n",
              "      <th>index</th>\n",
              "      <th>data</th>\n",
              "      <th>cidade</th>\n",
              "      <th>estado</th>\n",
              "      <th>formato</th>\n",
              "    </tr>\n",
              "  </thead>\n",
              "  <tbody>\n",
              "    <tr>\n",
              "      <th>0</th>\n",
              "      <td>0</td>\n",
              "      <td>9/30/97 22:00</td>\n",
              "      <td>Madison</td>\n",
              "      <td>WI</td>\n",
              "      <td>Light</td>\n",
              "    </tr>\n",
              "    <tr>\n",
              "      <th>1</th>\n",
              "      <td>1</td>\n",
              "      <td>9/28/97 23:15</td>\n",
              "      <td>San Francisco</td>\n",
              "      <td>CA</td>\n",
              "      <td>Triangle</td>\n",
              "    </tr>\n",
              "    <tr>\n",
              "      <th>2</th>\n",
              "      <td>2</td>\n",
              "      <td>9/27/97 23:00</td>\n",
              "      <td>Egan</td>\n",
              "      <td>SD</td>\n",
              "      <td>Other</td>\n",
              "    </tr>\n",
              "    <tr>\n",
              "      <th>3</th>\n",
              "      <td>3</td>\n",
              "      <td>9/27/97 05:00</td>\n",
              "      <td>Crestwood</td>\n",
              "      <td>KY</td>\n",
              "      <td>Disk</td>\n",
              "    </tr>\n",
              "    <tr>\n",
              "      <th>4</th>\n",
              "      <td>4</td>\n",
              "      <td>9/25/97 22:00</td>\n",
              "      <td>Clearfield</td>\n",
              "      <td>UT</td>\n",
              "      <td>Triangle</td>\n",
              "    </tr>\n",
              "    <tr>\n",
              "      <th>...</th>\n",
              "      <td>...</td>\n",
              "      <td>...</td>\n",
              "      <td>...</td>\n",
              "      <td>...</td>\n",
              "      <td>...</td>\n",
              "    </tr>\n",
              "    <tr>\n",
              "      <th>78212</th>\n",
              "      <td>80486</td>\n",
              "      <td>8/1/17 06:15</td>\n",
              "      <td>Columbus (North)</td>\n",
              "      <td>GA</td>\n",
              "      <td>Fireball</td>\n",
              "    </tr>\n",
              "    <tr>\n",
              "      <th>78213</th>\n",
              "      <td>80487</td>\n",
              "      <td>8/1/17 02:45</td>\n",
              "      <td>Corcoran</td>\n",
              "      <td>MN</td>\n",
              "      <td>Light</td>\n",
              "    </tr>\n",
              "    <tr>\n",
              "      <th>78214</th>\n",
              "      <td>80488</td>\n",
              "      <td>8/1/17 02:00</td>\n",
              "      <td>Moreno Valley</td>\n",
              "      <td>CA</td>\n",
              "      <td>Other</td>\n",
              "    </tr>\n",
              "    <tr>\n",
              "      <th>78215</th>\n",
              "      <td>80489</td>\n",
              "      <td>8/1/17 01:00</td>\n",
              "      <td>Bradenton</td>\n",
              "      <td>FL</td>\n",
              "      <td>Other</td>\n",
              "    </tr>\n",
              "    <tr>\n",
              "      <th>78216</th>\n",
              "      <td>80490</td>\n",
              "      <td>8/1/17</td>\n",
              "      <td>Laurel</td>\n",
              "      <td>MD</td>\n",
              "      <td>Other</td>\n",
              "    </tr>\n",
              "  </tbody>\n",
              "</table>\n",
              "<p>78217 rows × 5 columns</p>\n",
              "</div>"
            ],
            "text/plain": [
              "       index           data            cidade estado   formato\n",
              "0          0  9/30/97 22:00           Madison     WI     Light\n",
              "1          1  9/28/97 23:15     San Francisco     CA  Triangle\n",
              "2          2  9/27/97 23:00              Egan     SD     Other\n",
              "3          3  9/27/97 05:00         Crestwood     KY      Disk\n",
              "4          4  9/25/97 22:00        Clearfield     UT  Triangle\n",
              "...      ...            ...               ...    ...       ...\n",
              "78212  80486   8/1/17 06:15  Columbus (North)     GA  Fireball\n",
              "78213  80487   8/1/17 02:45          Corcoran     MN     Light\n",
              "78214  80488   8/1/17 02:00     Moreno Valley     CA     Other\n",
              "78215  80489   8/1/17 01:00         Bradenton     FL     Other\n",
              "78216  80490         8/1/17            Laurel     MD     Other\n",
              "\n",
              "[78217 rows x 5 columns]"
            ]
          },
          "metadata": {
            "tags": []
          },
          "execution_count": 16
        }
      ]
    },
    {
      "cell_type": "code",
      "metadata": {
        "colab": {
          "base_uri": "https://localhost:8080/",
          "height": 424
        },
        "id": "IGBECpHH7p8u",
        "outputId": "a94ac83b-9df1-4186-b723-2ff85bef8219"
      },
      "source": [
        "df5 = df4.drop(df4.columns[0], axis=1)\n",
        "df5"
      ],
      "execution_count": null,
      "outputs": [
        {
          "output_type": "execute_result",
          "data": {
            "text/html": [
              "<div>\n",
              "<style scoped>\n",
              "    .dataframe tbody tr th:only-of-type {\n",
              "        vertical-align: middle;\n",
              "    }\n",
              "\n",
              "    .dataframe tbody tr th {\n",
              "        vertical-align: top;\n",
              "    }\n",
              "\n",
              "    .dataframe thead th {\n",
              "        text-align: right;\n",
              "    }\n",
              "</style>\n",
              "<table border=\"1\" class=\"dataframe\">\n",
              "  <thead>\n",
              "    <tr style=\"text-align: right;\">\n",
              "      <th></th>\n",
              "      <th>data</th>\n",
              "      <th>cidade</th>\n",
              "      <th>estado</th>\n",
              "      <th>formato</th>\n",
              "    </tr>\n",
              "  </thead>\n",
              "  <tbody>\n",
              "    <tr>\n",
              "      <th>0</th>\n",
              "      <td>9/30/97 22:00</td>\n",
              "      <td>Madison</td>\n",
              "      <td>WI</td>\n",
              "      <td>Light</td>\n",
              "    </tr>\n",
              "    <tr>\n",
              "      <th>1</th>\n",
              "      <td>9/28/97 23:15</td>\n",
              "      <td>San Francisco</td>\n",
              "      <td>CA</td>\n",
              "      <td>Triangle</td>\n",
              "    </tr>\n",
              "    <tr>\n",
              "      <th>2</th>\n",
              "      <td>9/27/97 23:00</td>\n",
              "      <td>Egan</td>\n",
              "      <td>SD</td>\n",
              "      <td>Other</td>\n",
              "    </tr>\n",
              "    <tr>\n",
              "      <th>3</th>\n",
              "      <td>9/27/97 05:00</td>\n",
              "      <td>Crestwood</td>\n",
              "      <td>KY</td>\n",
              "      <td>Disk</td>\n",
              "    </tr>\n",
              "    <tr>\n",
              "      <th>4</th>\n",
              "      <td>9/25/97 22:00</td>\n",
              "      <td>Clearfield</td>\n",
              "      <td>UT</td>\n",
              "      <td>Triangle</td>\n",
              "    </tr>\n",
              "    <tr>\n",
              "      <th>...</th>\n",
              "      <td>...</td>\n",
              "      <td>...</td>\n",
              "      <td>...</td>\n",
              "      <td>...</td>\n",
              "    </tr>\n",
              "    <tr>\n",
              "      <th>78212</th>\n",
              "      <td>8/1/17 06:15</td>\n",
              "      <td>Columbus (North)</td>\n",
              "      <td>GA</td>\n",
              "      <td>Fireball</td>\n",
              "    </tr>\n",
              "    <tr>\n",
              "      <th>78213</th>\n",
              "      <td>8/1/17 02:45</td>\n",
              "      <td>Corcoran</td>\n",
              "      <td>MN</td>\n",
              "      <td>Light</td>\n",
              "    </tr>\n",
              "    <tr>\n",
              "      <th>78214</th>\n",
              "      <td>8/1/17 02:00</td>\n",
              "      <td>Moreno Valley</td>\n",
              "      <td>CA</td>\n",
              "      <td>Other</td>\n",
              "    </tr>\n",
              "    <tr>\n",
              "      <th>78215</th>\n",
              "      <td>8/1/17 01:00</td>\n",
              "      <td>Bradenton</td>\n",
              "      <td>FL</td>\n",
              "      <td>Other</td>\n",
              "    </tr>\n",
              "    <tr>\n",
              "      <th>78216</th>\n",
              "      <td>8/1/17</td>\n",
              "      <td>Laurel</td>\n",
              "      <td>MD</td>\n",
              "      <td>Other</td>\n",
              "    </tr>\n",
              "  </tbody>\n",
              "</table>\n",
              "<p>78217 rows × 4 columns</p>\n",
              "</div>"
            ],
            "text/plain": [
              "                data            cidade estado   formato\n",
              "0      9/30/97 22:00           Madison     WI     Light\n",
              "1      9/28/97 23:15     San Francisco     CA  Triangle\n",
              "2      9/27/97 23:00              Egan     SD     Other\n",
              "3      9/27/97 05:00         Crestwood     KY      Disk\n",
              "4      9/25/97 22:00        Clearfield     UT  Triangle\n",
              "...              ...               ...    ...       ...\n",
              "78212   8/1/17 06:15  Columbus (North)     GA  Fireball\n",
              "78213   8/1/17 02:45          Corcoran     MN     Light\n",
              "78214   8/1/17 02:00     Moreno Valley     CA     Other\n",
              "78215   8/1/17 01:00         Bradenton     FL     Other\n",
              "78216         8/1/17            Laurel     MD     Other\n",
              "\n",
              "[78217 rows x 4 columns]"
            ]
          },
          "metadata": {
            "tags": []
          },
          "execution_count": 20
        }
      ]
    },
    {
      "cell_type": "markdown",
      "metadata": {
        "id": "EOM8foDpxQJ5"
      },
      "source": [
        "## 6 - Salvar o dataframe final em um arquivo CSV com o nome \"df_OVNI_limpo\"."
      ]
    },
    {
      "cell_type": "code",
      "metadata": {
        "colab": {
          "base_uri": "https://localhost:8080/"
        },
        "id": "ryjh_2IUy59G",
        "outputId": "8506c14c-d122-4e56-c3bf-98ad1f727b3e"
      },
      "source": [
        "from google.colab import drive\n",
        "drive.mount('drive')\n",
        "df5.to_csv('df_OVNI_limpo.csv')\n",
        "!cp df_OVNI_limpo.csv \"drive/My Drive/\"\n",
        "#df4.to_csv('df_OVNI_limpo.csv', sep = ',', index = False)"
      ],
      "execution_count": null,
      "outputs": [
        {
          "output_type": "stream",
          "text": [
            "Mounted at drive\n"
          ],
          "name": "stdout"
        }
      ]
    }
  ]
}