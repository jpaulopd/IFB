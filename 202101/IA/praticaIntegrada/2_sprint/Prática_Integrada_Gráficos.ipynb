{
  "nbformat": 4,
  "nbformat_minor": 0,
  "metadata": {
    "colab": {
      "name": "Prática Integrada - Gráficos.ipynb",
      "provenance": []
    },
    "kernelspec": {
      "name": "python3",
      "display_name": "Python 3"
    },
    "language_info": {
      "name": "python"
    }
  },
  "cells": [
    {
      "cell_type": "code",
      "metadata": {
        "id": "hToqslL-Lq7t"
      },
      "source": [
        "import pandas as pd"
      ],
      "execution_count": null,
      "outputs": []
    },
    {
      "cell_type": "code",
      "metadata": {
        "id": "35hevF2IL9no"
      },
      "source": [
        "#Ler CSV e renomear colunas\n",
        "df_data = pd.read_csv('https://raw.githubusercontent.com/infocbra/pratica-integrada-cd-e-am-2021-1-g1-ghjp/a496346889e5ce4d058ef7675ff853e4d344fe6d/1_sprint/ovinis_data.csv?token=AO5C2EBETFG6VUNLXT2SAT3BD5JGU')\n",
        "df_data.columns = ['indexes','date/time', 'city', 'state', 'shape', 'duration', 'summary', 'posted']\n",
        "df_data.drop(labels='indexes', axis=1, inplace=True)"
      ],
      "execution_count": null,
      "outputs": []
    },
    {
      "cell_type": "code",
      "metadata": {
        "id": "d9JBqbXOfHGJ"
      },
      "source": [
        "#Agrupar os resultados\n",
        "shapes = df_data[['shape']].groupby(['shape']).size().sort_values(ascending=False)[:4].reset_index(level=0)\n",
        "states = df_data[['state']].groupby(['state']).size().sort_values(ascending=False)[:4].reset_index(level=0)"
      ],
      "execution_count": null,
      "outputs": []
    },
    {
      "cell_type": "code",
      "metadata": {
        "id": "TBwPG462efZu",
        "colab": {
          "base_uri": "https://localhost:8080/",
          "height": 542
        },
        "outputId": "f6efcfc0-d49a-42db-d96e-df1bed43ecec"
      },
      "source": [
        "#Filtrar apenas os valores dos estados e formatos a serem utilizados\n",
        "data = df_data.loc[df_data['shape'].isin(shapes['shape']) & df_data['state'].isin(states['state'])]\n",
        "data = data[['shape', 'state']]\n",
        "data = data.value_counts().reset_index()\n",
        "\n",
        "data.columns = ['shape', 'state', 'total']"
      ],
      "execution_count": null,
      "outputs": [
        {
          "output_type": "execute_result",
          "data": {
            "text/html": [
              "<div>\n",
              "<style scoped>\n",
              "    .dataframe tbody tr th:only-of-type {\n",
              "        vertical-align: middle;\n",
              "    }\n",
              "\n",
              "    .dataframe tbody tr th {\n",
              "        vertical-align: top;\n",
              "    }\n",
              "\n",
              "    .dataframe thead th {\n",
              "        text-align: right;\n",
              "    }\n",
              "</style>\n",
              "<table border=\"1\" class=\"dataframe\">\n",
              "  <thead>\n",
              "    <tr style=\"text-align: right;\">\n",
              "      <th></th>\n",
              "      <th>shape</th>\n",
              "      <th>state</th>\n",
              "      <th>total</th>\n",
              "    </tr>\n",
              "  </thead>\n",
              "  <tbody>\n",
              "    <tr>\n",
              "      <th>0</th>\n",
              "      <td>Light</td>\n",
              "      <td>CA</td>\n",
              "      <td>2452</td>\n",
              "    </tr>\n",
              "    <tr>\n",
              "      <th>1</th>\n",
              "      <td>Circle</td>\n",
              "      <td>CA</td>\n",
              "      <td>1180</td>\n",
              "    </tr>\n",
              "    <tr>\n",
              "      <th>2</th>\n",
              "      <td>Light</td>\n",
              "      <td>WA</td>\n",
              "      <td>1140</td>\n",
              "    </tr>\n",
              "    <tr>\n",
              "      <th>3</th>\n",
              "      <td>Light</td>\n",
              "      <td>FL</td>\n",
              "      <td>1078</td>\n",
              "    </tr>\n",
              "    <tr>\n",
              "      <th>4</th>\n",
              "      <td>Fireball</td>\n",
              "      <td>CA</td>\n",
              "      <td>994</td>\n",
              "    </tr>\n",
              "    <tr>\n",
              "      <th>5</th>\n",
              "      <td>Triangle</td>\n",
              "      <td>CA</td>\n",
              "      <td>982</td>\n",
              "    </tr>\n",
              "    <tr>\n",
              "      <th>6</th>\n",
              "      <td>Light</td>\n",
              "      <td>TX</td>\n",
              "      <td>863</td>\n",
              "    </tr>\n",
              "    <tr>\n",
              "      <th>7</th>\n",
              "      <td>Circle</td>\n",
              "      <td>FL</td>\n",
              "      <td>647</td>\n",
              "    </tr>\n",
              "    <tr>\n",
              "      <th>8</th>\n",
              "      <td>Fireball</td>\n",
              "      <td>FL</td>\n",
              "      <td>629</td>\n",
              "    </tr>\n",
              "    <tr>\n",
              "      <th>9</th>\n",
              "      <td>Triangle</td>\n",
              "      <td>FL</td>\n",
              "      <td>470</td>\n",
              "    </tr>\n",
              "    <tr>\n",
              "      <th>10</th>\n",
              "      <td>Circle</td>\n",
              "      <td>WA</td>\n",
              "      <td>468</td>\n",
              "    </tr>\n",
              "    <tr>\n",
              "      <th>11</th>\n",
              "      <td>Fireball</td>\n",
              "      <td>WA</td>\n",
              "      <td>462</td>\n",
              "    </tr>\n",
              "    <tr>\n",
              "      <th>12</th>\n",
              "      <td>Triangle</td>\n",
              "      <td>TX</td>\n",
              "      <td>430</td>\n",
              "    </tr>\n",
              "    <tr>\n",
              "      <th>13</th>\n",
              "      <td>Triangle</td>\n",
              "      <td>WA</td>\n",
              "      <td>404</td>\n",
              "    </tr>\n",
              "    <tr>\n",
              "      <th>14</th>\n",
              "      <td>Circle</td>\n",
              "      <td>TX</td>\n",
              "      <td>389</td>\n",
              "    </tr>\n",
              "    <tr>\n",
              "      <th>15</th>\n",
              "      <td>Fireball</td>\n",
              "      <td>TX</td>\n",
              "      <td>262</td>\n",
              "    </tr>\n",
              "  </tbody>\n",
              "</table>\n",
              "</div>"
            ],
            "text/plain": [
              "       shape state  total\n",
              "0      Light    CA   2452\n",
              "1     Circle    CA   1180\n",
              "2      Light    WA   1140\n",
              "3      Light    FL   1078\n",
              "4   Fireball    CA    994\n",
              "5   Triangle    CA    982\n",
              "6      Light    TX    863\n",
              "7     Circle    FL    647\n",
              "8   Fireball    FL    629\n",
              "9   Triangle    FL    470\n",
              "10    Circle    WA    468\n",
              "11  Fireball    WA    462\n",
              "12  Triangle    TX    430\n",
              "13  Triangle    WA    404\n",
              "14    Circle    TX    389\n",
              "15  Fireball    TX    262"
            ]
          },
          "metadata": {
            "tags": []
          },
          "execution_count": 7
        }
      ]
    },
    {
      "cell_type": "code",
      "metadata": {
        "id": "mcYjPzx69in2",
        "colab": {
          "base_uri": "https://localhost:8080/",
          "height": 203
        },
        "outputId": "98b50eb6-9988-4f2e-9847-3c5387c575c9"
      },
      "source": [
        "#Estruturar o dataframe para facilitar o plot\n",
        "data = data.set_index('state')\n",
        "data = data.pivot(columns='shape')\n",
        "data.columns = data.columns.droplevel()\n",
        "\n",
        "data = data[['Light', 'Circle', 'Fireball', 'Triangle']]"
      ],
      "execution_count": null,
      "outputs": [
        {
          "output_type": "execute_result",
          "data": {
            "text/html": [
              "<div>\n",
              "<style scoped>\n",
              "    .dataframe tbody tr th:only-of-type {\n",
              "        vertical-align: middle;\n",
              "    }\n",
              "\n",
              "    .dataframe tbody tr th {\n",
              "        vertical-align: top;\n",
              "    }\n",
              "\n",
              "    .dataframe thead th {\n",
              "        text-align: right;\n",
              "    }\n",
              "</style>\n",
              "<table border=\"1\" class=\"dataframe\">\n",
              "  <thead>\n",
              "    <tr style=\"text-align: right;\">\n",
              "      <th>shape</th>\n",
              "      <th>Light</th>\n",
              "      <th>Circle</th>\n",
              "      <th>Fireball</th>\n",
              "      <th>Triangle</th>\n",
              "    </tr>\n",
              "    <tr>\n",
              "      <th>state</th>\n",
              "      <th></th>\n",
              "      <th></th>\n",
              "      <th></th>\n",
              "      <th></th>\n",
              "    </tr>\n",
              "  </thead>\n",
              "  <tbody>\n",
              "    <tr>\n",
              "      <th>CA</th>\n",
              "      <td>2452</td>\n",
              "      <td>1180</td>\n",
              "      <td>994</td>\n",
              "      <td>982</td>\n",
              "    </tr>\n",
              "    <tr>\n",
              "      <th>FL</th>\n",
              "      <td>1078</td>\n",
              "      <td>647</td>\n",
              "      <td>629</td>\n",
              "      <td>470</td>\n",
              "    </tr>\n",
              "    <tr>\n",
              "      <th>TX</th>\n",
              "      <td>863</td>\n",
              "      <td>389</td>\n",
              "      <td>262</td>\n",
              "      <td>430</td>\n",
              "    </tr>\n",
              "    <tr>\n",
              "      <th>WA</th>\n",
              "      <td>1140</td>\n",
              "      <td>468</td>\n",
              "      <td>462</td>\n",
              "      <td>404</td>\n",
              "    </tr>\n",
              "  </tbody>\n",
              "</table>\n",
              "</div>"
            ],
            "text/plain": [
              "shape  Light  Circle  Fireball  Triangle\n",
              "state                                   \n",
              "CA      2452    1180       994       982\n",
              "FL      1078     647       629       470\n",
              "TX       863     389       262       430\n",
              "WA      1140     468       462       404"
            ]
          },
          "metadata": {
            "tags": []
          },
          "execution_count": 9
        }
      ]
    },
    {
      "cell_type": "markdown",
      "metadata": {
        "id": "qMiEy-MJ_8o7"
      },
      "source": [
        "Gráfico de barras agrupadas"
      ]
    },
    {
      "cell_type": "code",
      "metadata": {
        "colab": {
          "base_uri": "https://localhost:8080/",
          "height": 303
        },
        "id": "GQgiaBCd-IOG",
        "outputId": "ccf635cc-f771-48bf-d0e0-6bcf8e848d48"
      },
      "source": [
        "data.plot(kind='bar')"
      ],
      "execution_count": null,
      "outputs": [
        {
          "output_type": "execute_result",
          "data": {
            "text/plain": [
              "<matplotlib.axes._subplots.AxesSubplot at 0x7f2e58885c10>"
            ]
          },
          "metadata": {
            "tags": []
          },
          "execution_count": 10
        },
        {
          "output_type": "display_data",
          "data": {
            "image/png": "[encoded data removed]",
            "text/plain": [
              "<Figure size 432x288 with 1 Axes>"
            ]
          },
          "metadata": {
            "tags": [],
            "needs_background": "light"
          }
        }
      ]
    },
    {
      "cell_type": "markdown",
      "metadata": {
        "id": "-ca0Z2_eAANk"
      },
      "source": [
        "Gráfico de barras empilhadas"
      ]
    },
    {
      "cell_type": "code",
      "metadata": {
        "colab": {
          "base_uri": "https://localhost:8080/",
          "height": 303
        },
        "id": "03J0aIE2-GiC",
        "outputId": "49239c88-fd77-4deb-8696-296f48f3849c"
      },
      "source": [
        "data.plot(stacked=True, kind='bar')"
      ],
      "execution_count": null,
      "outputs": [
        {
          "output_type": "execute_result",
          "data": {
            "text/plain": [
              "<matplotlib.axes._subplots.AxesSubplot at 0x7f2e582fc490>"
            ]
          },
          "metadata": {
            "tags": []
          },
          "execution_count": 11
        },
        {
          "output_type": "display_data",
          "data": {
            "image/png": "[encoded data removed]",
            "text/plain": [
              "<Figure size 432x288 with 1 Axes>"
            ]
          },
          "metadata": {
            "tags": [],
            "needs_background": "light"
          }
        }
      ]
    }
  ]
}