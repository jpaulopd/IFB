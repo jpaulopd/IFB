{
  "nbformat": 4,
  "nbformat_minor": 0,
  "metadata": {
    "colab": {
      "name": "sprint2_pi_g1_acrescimo_variaveis",
      "provenance": [],
      "collapsed_sections": [
        "qukIlsj4S1Oc"
      ]
    },
    "kernelspec": {
      "name": "python3",
      "display_name": "Python 3"
    },
    "language_info": {
      "name": "python"
    }
  },
  "cells": [
    {
      "cell_type": "markdown",
      "metadata": {
        "id": "Sc40xMhlOLcd"
      },
      "source": [
        "# **Sprint 2.4 - Acréscimo de Variáveis**\n",
        "\n"
      ]
    },
    {
      "cell_type": "code",
      "metadata": {
        "id": "Dk56uaJuajYC"
      },
      "source": [
        "import pandas as pd\n",
        "url = 'https://raw.githubusercontent.com/infocbra/pratica-integrada-cd-e-am-2021-1-g1-ghjp/master/2_sprint/df_OVNI_limpo.csv?token=AG2WN5KXFHC5FEEDB2AFRTTBC7RHE'\n",
        "df = pd.read_csv(url,sep=',')"
      ],
      "execution_count": 23,
      "outputs": []
    },
    {
      "cell_type": "markdown",
      "metadata": {
        "id": "496PSGKLSJOq"
      },
      "source": [
        "## 1 -Aspecto do dataframe resultado da atividade 2.3;"
      ]
    },
    {
      "cell_type": "code",
      "metadata": {
        "colab": {
          "base_uri": "https://localhost:8080/",
          "height": 206
        },
        "id": "gotGlrzSOVec",
        "outputId": "0182af14-4857-4db0-c6b4-06c19d45d5f5"
      },
      "source": [
        "df.drop(df.columns[0], axis=1, inplace=True)\n",
        "df.head()"
      ],
      "execution_count": 24,
      "outputs": [
        {
          "output_type": "execute_result",
          "data": {
            "text/html": [
              "<div>\n",
              "<style scoped>\n",
              "    .dataframe tbody tr th:only-of-type {\n",
              "        vertical-align: middle;\n",
              "    }\n",
              "\n",
              "    .dataframe tbody tr th {\n",
              "        vertical-align: top;\n",
              "    }\n",
              "\n",
              "    .dataframe thead th {\n",
              "        text-align: right;\n",
              "    }\n",
              "</style>\n",
              "<table border=\"1\" class=\"dataframe\">\n",
              "  <thead>\n",
              "    <tr style=\"text-align: right;\">\n",
              "      <th></th>\n",
              "      <th>data</th>\n",
              "      <th>cidade</th>\n",
              "      <th>estado</th>\n",
              "      <th>formato</th>\n",
              "    </tr>\n",
              "  </thead>\n",
              "  <tbody>\n",
              "    <tr>\n",
              "      <th>0</th>\n",
              "      <td>9/30/97 22:00</td>\n",
              "      <td>Madison</td>\n",
              "      <td>WI</td>\n",
              "      <td>Light</td>\n",
              "    </tr>\n",
              "    <tr>\n",
              "      <th>1</th>\n",
              "      <td>9/28/97 23:15</td>\n",
              "      <td>San Francisco</td>\n",
              "      <td>CA</td>\n",
              "      <td>Triangle</td>\n",
              "    </tr>\n",
              "    <tr>\n",
              "      <th>2</th>\n",
              "      <td>9/27/97 23:00</td>\n",
              "      <td>Egan</td>\n",
              "      <td>SD</td>\n",
              "      <td>Other</td>\n",
              "    </tr>\n",
              "    <tr>\n",
              "      <th>3</th>\n",
              "      <td>9/27/97 05:00</td>\n",
              "      <td>Crestwood</td>\n",
              "      <td>KY</td>\n",
              "      <td>Disk</td>\n",
              "    </tr>\n",
              "    <tr>\n",
              "      <th>4</th>\n",
              "      <td>9/25/97 22:00</td>\n",
              "      <td>Clearfield</td>\n",
              "      <td>UT</td>\n",
              "      <td>Triangle</td>\n",
              "    </tr>\n",
              "  </tbody>\n",
              "</table>\n",
              "</div>"
            ],
            "text/plain": [
              "            data         cidade estado   formato\n",
              "0  9/30/97 22:00        Madison     WI     Light\n",
              "1  9/28/97 23:15  San Francisco     CA  Triangle\n",
              "2  9/27/97 23:00           Egan     SD     Other\n",
              "3  9/27/97 05:00      Crestwood     KY      Disk\n",
              "4  9/25/97 22:00     Clearfield     UT  Triangle"
            ]
          },
          "metadata": {
            "tags": []
          },
          "execution_count": 24
        }
      ]
    },
    {
      "cell_type": "code",
      "metadata": {
        "colab": {
          "base_uri": "https://localhost:8080/"
        },
        "id": "b-wDuAMAp_u6",
        "outputId": "24641def-13fc-40e8-e194-01fee9240aaf"
      },
      "source": [
        "df.info()"
      ],
      "execution_count": 25,
      "outputs": [
        {
          "output_type": "stream",
          "text": [
            "<class 'pandas.core.frame.DataFrame'>\n",
            "RangeIndex: 78217 entries, 0 to 78216\n",
            "Data columns (total 4 columns):\n",
            " #   Column   Non-Null Count  Dtype \n",
            "---  ------   --------------  ----- \n",
            " 0   data     78217 non-null  object\n",
            " 1   cidade   78217 non-null  object\n",
            " 2   estado   78217 non-null  object\n",
            " 3   formato  78217 non-null  object\n",
            "dtypes: object(4)\n",
            "memory usage: 2.4+ MB\n"
          ],
          "name": "stdout"
        }
      ]
    },
    {
      "cell_type": "markdown",
      "metadata": {
        "id": "mUg6xrbxSUAx"
      },
      "source": [
        "## 2 - Dividir o conteúdo da coluna Date / Time em duas novas colunas no mesmo dataframe e deletar a coluna Date / Time ;\n"
      ]
    },
    {
      "cell_type": "code",
      "metadata": {
        "id": "ivFR9ujVSAAs"
      },
      "source": [
        "df1 = df\n",
        "\n",
        "\n",
        "df1['visualizacao_data'] = pd.to_datetime(df['data']).dt.date\n",
        "df1['visualizacao_horario'] = pd.to_datetime(df['data']).dt.time"
      ],
      "execution_count": 26,
      "outputs": []
    },
    {
      "cell_type": "code",
      "metadata": {
        "colab": {
          "base_uri": "https://localhost:8080/",
          "height": 206
        },
        "id": "UGa8P_BXSf83",
        "outputId": "4fc3e9d5-9f15-4c8a-bb64-31523c15091c"
      },
      "source": [
        "df1.drop(df.columns[0], axis=1, inplace=True)\n",
        "df1.head()"
      ],
      "execution_count": 27,
      "outputs": [
        {
          "output_type": "execute_result",
          "data": {
            "text/html": [
              "<div>\n",
              "<style scoped>\n",
              "    .dataframe tbody tr th:only-of-type {\n",
              "        vertical-align: middle;\n",
              "    }\n",
              "\n",
              "    .dataframe tbody tr th {\n",
              "        vertical-align: top;\n",
              "    }\n",
              "\n",
              "    .dataframe thead th {\n",
              "        text-align: right;\n",
              "    }\n",
              "</style>\n",
              "<table border=\"1\" class=\"dataframe\">\n",
              "  <thead>\n",
              "    <tr style=\"text-align: right;\">\n",
              "      <th></th>\n",
              "      <th>cidade</th>\n",
              "      <th>estado</th>\n",
              "      <th>formato</th>\n",
              "      <th>visualizacao_data</th>\n",
              "      <th>visualizacao_horario</th>\n",
              "    </tr>\n",
              "  </thead>\n",
              "  <tbody>\n",
              "    <tr>\n",
              "      <th>0</th>\n",
              "      <td>Madison</td>\n",
              "      <td>WI</td>\n",
              "      <td>Light</td>\n",
              "      <td>1997-09-30</td>\n",
              "      <td>22:00:00</td>\n",
              "    </tr>\n",
              "    <tr>\n",
              "      <th>1</th>\n",
              "      <td>San Francisco</td>\n",
              "      <td>CA</td>\n",
              "      <td>Triangle</td>\n",
              "      <td>1997-09-28</td>\n",
              "      <td>23:15:00</td>\n",
              "    </tr>\n",
              "    <tr>\n",
              "      <th>2</th>\n",
              "      <td>Egan</td>\n",
              "      <td>SD</td>\n",
              "      <td>Other</td>\n",
              "      <td>1997-09-27</td>\n",
              "      <td>23:00:00</td>\n",
              "    </tr>\n",
              "    <tr>\n",
              "      <th>3</th>\n",
              "      <td>Crestwood</td>\n",
              "      <td>KY</td>\n",
              "      <td>Disk</td>\n",
              "      <td>1997-09-27</td>\n",
              "      <td>05:00:00</td>\n",
              "    </tr>\n",
              "    <tr>\n",
              "      <th>4</th>\n",
              "      <td>Clearfield</td>\n",
              "      <td>UT</td>\n",
              "      <td>Triangle</td>\n",
              "      <td>1997-09-25</td>\n",
              "      <td>22:00:00</td>\n",
              "    </tr>\n",
              "  </tbody>\n",
              "</table>\n",
              "</div>"
            ],
            "text/plain": [
              "          cidade estado   formato visualizacao_data visualizacao_horario\n",
              "0        Madison     WI     Light        1997-09-30             22:00:00\n",
              "1  San Francisco     CA  Triangle        1997-09-28             23:15:00\n",
              "2           Egan     SD     Other        1997-09-27             23:00:00\n",
              "3      Crestwood     KY      Disk        1997-09-27             05:00:00\n",
              "4     Clearfield     UT  Triangle        1997-09-25             22:00:00"
            ]
          },
          "metadata": {
            "tags": []
          },
          "execution_count": 27
        }
      ]
    },
    {
      "cell_type": "markdown",
      "metadata": {
        "id": "pWfLeErUuEwA"
      },
      "source": [
        "## 3 - Fazer o mesmo procedimento para dias da semana. Será que existe um dia da semana com mais ocorrências de relatórios para OVNIs? Para descobrir isso, você deve criar uma nova coluna chamada weekdays."
      ]
    },
    {
      "cell_type": "code",
      "metadata": {
        "colab": {
          "base_uri": "https://localhost:8080/",
          "height": 424
        },
        "id": "X9-Hing1uDK6",
        "outputId": "4d53283b-17ee-4882-db6b-c68b59964028"
      },
      "source": [
        "import datetime\n",
        "df2 = df1\n",
        "df2['weekdays'] = pd.to_datetime(df2['visualizacao_data'], errors='coerce').dt.day_name()\n",
        "df2"
      ],
      "execution_count": 28,
      "outputs": [
        {
          "output_type": "execute_result",
          "data": {
            "text/html": [
              "<div>\n",
              "<style scoped>\n",
              "    .dataframe tbody tr th:only-of-type {\n",
              "        vertical-align: middle;\n",
              "    }\n",
              "\n",
              "    .dataframe tbody tr th {\n",
              "        vertical-align: top;\n",
              "    }\n",
              "\n",
              "    .dataframe thead th {\n",
              "        text-align: right;\n",
              "    }\n",
              "</style>\n",
              "<table border=\"1\" class=\"dataframe\">\n",
              "  <thead>\n",
              "    <tr style=\"text-align: right;\">\n",
              "      <th></th>\n",
              "      <th>cidade</th>\n",
              "      <th>estado</th>\n",
              "      <th>formato</th>\n",
              "      <th>visualizacao_data</th>\n",
              "      <th>visualizacao_horario</th>\n",
              "      <th>weekdays</th>\n",
              "    </tr>\n",
              "  </thead>\n",
              "  <tbody>\n",
              "    <tr>\n",
              "      <th>0</th>\n",
              "      <td>Madison</td>\n",
              "      <td>WI</td>\n",
              "      <td>Light</td>\n",
              "      <td>1997-09-30</td>\n",
              "      <td>22:00:00</td>\n",
              "      <td>Tuesday</td>\n",
              "    </tr>\n",
              "    <tr>\n",
              "      <th>1</th>\n",
              "      <td>San Francisco</td>\n",
              "      <td>CA</td>\n",
              "      <td>Triangle</td>\n",
              "      <td>1997-09-28</td>\n",
              "      <td>23:15:00</td>\n",
              "      <td>Sunday</td>\n",
              "    </tr>\n",
              "    <tr>\n",
              "      <th>2</th>\n",
              "      <td>Egan</td>\n",
              "      <td>SD</td>\n",
              "      <td>Other</td>\n",
              "      <td>1997-09-27</td>\n",
              "      <td>23:00:00</td>\n",
              "      <td>Saturday</td>\n",
              "    </tr>\n",
              "    <tr>\n",
              "      <th>3</th>\n",
              "      <td>Crestwood</td>\n",
              "      <td>KY</td>\n",
              "      <td>Disk</td>\n",
              "      <td>1997-09-27</td>\n",
              "      <td>05:00:00</td>\n",
              "      <td>Saturday</td>\n",
              "    </tr>\n",
              "    <tr>\n",
              "      <th>4</th>\n",
              "      <td>Clearfield</td>\n",
              "      <td>UT</td>\n",
              "      <td>Triangle</td>\n",
              "      <td>1997-09-25</td>\n",
              "      <td>22:00:00</td>\n",
              "      <td>Thursday</td>\n",
              "    </tr>\n",
              "    <tr>\n",
              "      <th>...</th>\n",
              "      <td>...</td>\n",
              "      <td>...</td>\n",
              "      <td>...</td>\n",
              "      <td>...</td>\n",
              "      <td>...</td>\n",
              "      <td>...</td>\n",
              "    </tr>\n",
              "    <tr>\n",
              "      <th>78212</th>\n",
              "      <td>Columbus (North)</td>\n",
              "      <td>GA</td>\n",
              "      <td>Fireball</td>\n",
              "      <td>2017-08-01</td>\n",
              "      <td>06:15:00</td>\n",
              "      <td>Tuesday</td>\n",
              "    </tr>\n",
              "    <tr>\n",
              "      <th>78213</th>\n",
              "      <td>Corcoran</td>\n",
              "      <td>MN</td>\n",
              "      <td>Light</td>\n",
              "      <td>2017-08-01</td>\n",
              "      <td>02:45:00</td>\n",
              "      <td>Tuesday</td>\n",
              "    </tr>\n",
              "    <tr>\n",
              "      <th>78214</th>\n",
              "      <td>Moreno Valley</td>\n",
              "      <td>CA</td>\n",
              "      <td>Other</td>\n",
              "      <td>2017-08-01</td>\n",
              "      <td>02:00:00</td>\n",
              "      <td>Tuesday</td>\n",
              "    </tr>\n",
              "    <tr>\n",
              "      <th>78215</th>\n",
              "      <td>Bradenton</td>\n",
              "      <td>FL</td>\n",
              "      <td>Other</td>\n",
              "      <td>2017-08-01</td>\n",
              "      <td>01:00:00</td>\n",
              "      <td>Tuesday</td>\n",
              "    </tr>\n",
              "    <tr>\n",
              "      <th>78216</th>\n",
              "      <td>Laurel</td>\n",
              "      <td>MD</td>\n",
              "      <td>Other</td>\n",
              "      <td>2017-08-01</td>\n",
              "      <td>00:00:00</td>\n",
              "      <td>Tuesday</td>\n",
              "    </tr>\n",
              "  </tbody>\n",
              "</table>\n",
              "<p>78217 rows × 6 columns</p>\n",
              "</div>"
            ],
            "text/plain": [
              "                 cidade estado  ... visualizacao_horario  weekdays\n",
              "0               Madison     WI  ...             22:00:00   Tuesday\n",
              "1         San Francisco     CA  ...             23:15:00    Sunday\n",
              "2                  Egan     SD  ...             23:00:00  Saturday\n",
              "3             Crestwood     KY  ...             05:00:00  Saturday\n",
              "4            Clearfield     UT  ...             22:00:00  Thursday\n",
              "...                 ...    ...  ...                  ...       ...\n",
              "78212  Columbus (North)     GA  ...             06:15:00   Tuesday\n",
              "78213          Corcoran     MN  ...             02:45:00   Tuesday\n",
              "78214     Moreno Valley     CA  ...             02:00:00   Tuesday\n",
              "78215         Bradenton     FL  ...             01:00:00   Tuesday\n",
              "78216            Laurel     MD  ...             00:00:00   Tuesday\n",
              "\n",
              "[78217 rows x 6 columns]"
            ]
          },
          "metadata": {
            "tags": []
          },
          "execution_count": 28
        }
      ]
    },
    {
      "cell_type": "markdown",
      "metadata": {
        "id": "laPOD2GOXQtv"
      },
      "source": [
        "## 4 - Separar as variáveis mês (Month) e dia (Day). Desse modo, será possível refinar as pesquisas.;"
      ]
    },
    {
      "cell_type": "code",
      "metadata": {
        "colab": {
          "base_uri": "https://localhost:8080/",
          "height": 424
        },
        "id": "VDE34qZYXZit",
        "outputId": "a001a4ba-d14f-461f-a881-c666e0272138"
      },
      "source": [
        "df3 = df2\n",
        "df3['visualizacao_dia'] = pd.to_datetime(df2['visualizacao_data']).dt.day\n",
        "df3['visualizacao_mes'] = pd.to_datetime(df2['visualizacao_data']).dt.month\n",
        "df3"
      ],
      "execution_count": 29,
      "outputs": [
        {
          "output_type": "execute_result",
          "data": {
            "text/html": [
              "<div>\n",
              "<style scoped>\n",
              "    .dataframe tbody tr th:only-of-type {\n",
              "        vertical-align: middle;\n",
              "    }\n",
              "\n",
              "    .dataframe tbody tr th {\n",
              "        vertical-align: top;\n",
              "    }\n",
              "\n",
              "    .dataframe thead th {\n",
              "        text-align: right;\n",
              "    }\n",
              "</style>\n",
              "<table border=\"1\" class=\"dataframe\">\n",
              "  <thead>\n",
              "    <tr style=\"text-align: right;\">\n",
              "      <th></th>\n",
              "      <th>cidade</th>\n",
              "      <th>estado</th>\n",
              "      <th>formato</th>\n",
              "      <th>visualizacao_data</th>\n",
              "      <th>visualizacao_horario</th>\n",
              "      <th>weekdays</th>\n",
              "      <th>visualizacao_dia</th>\n",
              "      <th>visualizacao_mes</th>\n",
              "    </tr>\n",
              "  </thead>\n",
              "  <tbody>\n",
              "    <tr>\n",
              "      <th>0</th>\n",
              "      <td>Madison</td>\n",
              "      <td>WI</td>\n",
              "      <td>Light</td>\n",
              "      <td>1997-09-30</td>\n",
              "      <td>22:00:00</td>\n",
              "      <td>Tuesday</td>\n",
              "      <td>30</td>\n",
              "      <td>9</td>\n",
              "    </tr>\n",
              "    <tr>\n",
              "      <th>1</th>\n",
              "      <td>San Francisco</td>\n",
              "      <td>CA</td>\n",
              "      <td>Triangle</td>\n",
              "      <td>1997-09-28</td>\n",
              "      <td>23:15:00</td>\n",
              "      <td>Sunday</td>\n",
              "      <td>28</td>\n",
              "      <td>9</td>\n",
              "    </tr>\n",
              "    <tr>\n",
              "      <th>2</th>\n",
              "      <td>Egan</td>\n",
              "      <td>SD</td>\n",
              "      <td>Other</td>\n",
              "      <td>1997-09-27</td>\n",
              "      <td>23:00:00</td>\n",
              "      <td>Saturday</td>\n",
              "      <td>27</td>\n",
              "      <td>9</td>\n",
              "    </tr>\n",
              "    <tr>\n",
              "      <th>3</th>\n",
              "      <td>Crestwood</td>\n",
              "      <td>KY</td>\n",
              "      <td>Disk</td>\n",
              "      <td>1997-09-27</td>\n",
              "      <td>05:00:00</td>\n",
              "      <td>Saturday</td>\n",
              "      <td>27</td>\n",
              "      <td>9</td>\n",
              "    </tr>\n",
              "    <tr>\n",
              "      <th>4</th>\n",
              "      <td>Clearfield</td>\n",
              "      <td>UT</td>\n",
              "      <td>Triangle</td>\n",
              "      <td>1997-09-25</td>\n",
              "      <td>22:00:00</td>\n",
              "      <td>Thursday</td>\n",
              "      <td>25</td>\n",
              "      <td>9</td>\n",
              "    </tr>\n",
              "    <tr>\n",
              "      <th>...</th>\n",
              "      <td>...</td>\n",
              "      <td>...</td>\n",
              "      <td>...</td>\n",
              "      <td>...</td>\n",
              "      <td>...</td>\n",
              "      <td>...</td>\n",
              "      <td>...</td>\n",
              "      <td>...</td>\n",
              "    </tr>\n",
              "    <tr>\n",
              "      <th>78212</th>\n",
              "      <td>Columbus (North)</td>\n",
              "      <td>GA</td>\n",
              "      <td>Fireball</td>\n",
              "      <td>2017-08-01</td>\n",
              "      <td>06:15:00</td>\n",
              "      <td>Tuesday</td>\n",
              "      <td>1</td>\n",
              "      <td>8</td>\n",
              "    </tr>\n",
              "    <tr>\n",
              "      <th>78213</th>\n",
              "      <td>Corcoran</td>\n",
              "      <td>MN</td>\n",
              "      <td>Light</td>\n",
              "      <td>2017-08-01</td>\n",
              "      <td>02:45:00</td>\n",
              "      <td>Tuesday</td>\n",
              "      <td>1</td>\n",
              "      <td>8</td>\n",
              "    </tr>\n",
              "    <tr>\n",
              "      <th>78214</th>\n",
              "      <td>Moreno Valley</td>\n",
              "      <td>CA</td>\n",
              "      <td>Other</td>\n",
              "      <td>2017-08-01</td>\n",
              "      <td>02:00:00</td>\n",
              "      <td>Tuesday</td>\n",
              "      <td>1</td>\n",
              "      <td>8</td>\n",
              "    </tr>\n",
              "    <tr>\n",
              "      <th>78215</th>\n",
              "      <td>Bradenton</td>\n",
              "      <td>FL</td>\n",
              "      <td>Other</td>\n",
              "      <td>2017-08-01</td>\n",
              "      <td>01:00:00</td>\n",
              "      <td>Tuesday</td>\n",
              "      <td>1</td>\n",
              "      <td>8</td>\n",
              "    </tr>\n",
              "    <tr>\n",
              "      <th>78216</th>\n",
              "      <td>Laurel</td>\n",
              "      <td>MD</td>\n",
              "      <td>Other</td>\n",
              "      <td>2017-08-01</td>\n",
              "      <td>00:00:00</td>\n",
              "      <td>Tuesday</td>\n",
              "      <td>1</td>\n",
              "      <td>8</td>\n",
              "    </tr>\n",
              "  </tbody>\n",
              "</table>\n",
              "<p>78217 rows × 8 columns</p>\n",
              "</div>"
            ],
            "text/plain": [
              "                 cidade estado  ... visualizacao_dia visualizacao_mes\n",
              "0               Madison     WI  ...               30                9\n",
              "1         San Francisco     CA  ...               28                9\n",
              "2                  Egan     SD  ...               27                9\n",
              "3             Crestwood     KY  ...               27                9\n",
              "4            Clearfield     UT  ...               25                9\n",
              "...                 ...    ...  ...              ...              ...\n",
              "78212  Columbus (North)     GA  ...                1                8\n",
              "78213          Corcoran     MN  ...                1                8\n",
              "78214     Moreno Valley     CA  ...                1                8\n",
              "78215         Bradenton     FL  ...                1                8\n",
              "78216            Laurel     MD  ...                1                8\n",
              "\n",
              "[78217 rows x 8 columns]"
            ]
          },
          "metadata": {
            "tags": []
          },
          "execution_count": 29
        }
      ]
    },
    {
      "cell_type": "markdown",
      "metadata": {
        "id": "gZs0r8uKbbJ-"
      },
      "source": [
        "## 5 - Por fim, salvar o dataframe resultante em um arquivo .csv com o nome: 'df_OVNI_preparado'."
      ]
    },
    {
      "cell_type": "code",
      "metadata": {
        "colab": {
          "base_uri": "https://localhost:8080/"
        },
        "id": "mRGqUch7X4b3",
        "outputId": "b5f41590-1fe1-4673-889f-40827adc6c4d"
      },
      "source": [
        "from google.colab import drive\n",
        "drive.mount('drive')\n",
        "df3.to_csv('df_OVNI_preparado.csv')\n",
        "!cp df_OVNI_preparado.csv \"drive/My Drive/Colab Notebooks/projeto_integrado/\""
      ],
      "execution_count": 33,
      "outputs": [
        {
          "output_type": "stream",
          "text": [
            "Drive already mounted at drive; to attempt to forcibly remount, call drive.mount(\"drive\", force_remount=True).\n"
          ],
          "name": "stdout"
        }
      ]
    }
  ]
}